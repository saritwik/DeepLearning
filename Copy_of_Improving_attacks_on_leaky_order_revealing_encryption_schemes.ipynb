{
  "nbformat": 4,
  "nbformat_minor": 0,
  "metadata": {
    "colab": {
      "name": "Copy of Improving attacks on leaky order-revealing encryption schemes.ipynb",
      "provenance": [],
      "collapsed_sections": [],
      "authorship_tag": "ABX9TyPzgik/KexpyV3uXU7l5Y+p",
      "include_colab_link": true
    },
    "kernelspec": {
      "name": "python3",
      "display_name": "Python 3"
    },
    "widgets": {
      "application/vnd.jupyter.widget-state+json": {
        "c371a24092ee48c6ab4639e7376d9b3a": {
          "model_module": "@jupyter-widgets/controls",
          "model_name": "HBoxModel",
          "state": {
            "_view_name": "HBoxView",
            "_dom_classes": [],
            "_model_name": "HBoxModel",
            "_view_module": "@jupyter-widgets/controls",
            "_model_module_version": "1.5.0",
            "_view_count": null,
            "_view_module_version": "1.5.0",
            "box_style": "",
            "layout": "IPY_MODEL_ed3ab1826d0543bbbb82cbbc6f704a85",
            "_model_module": "@jupyter-widgets/controls",
            "children": [
              "IPY_MODEL_3044cb8f3a304ea0b96acaab7e8e0848",
              "IPY_MODEL_31e0b0a5719c42939cd28d661d3f6e35"
            ]
          }
        },
        "ed3ab1826d0543bbbb82cbbc6f704a85": {
          "model_module": "@jupyter-widgets/base",
          "model_name": "LayoutModel",
          "state": {
            "_view_name": "LayoutView",
            "grid_template_rows": null,
            "right": null,
            "justify_content": null,
            "_view_module": "@jupyter-widgets/base",
            "overflow": null,
            "_model_module_version": "1.2.0",
            "_view_count": null,
            "flex_flow": null,
            "width": null,
            "min_width": null,
            "border": null,
            "align_items": null,
            "bottom": null,
            "_model_module": "@jupyter-widgets/base",
            "top": null,
            "grid_column": null,
            "overflow_y": null,
            "overflow_x": null,
            "grid_auto_flow": null,
            "grid_area": null,
            "grid_template_columns": null,
            "flex": null,
            "_model_name": "LayoutModel",
            "justify_items": null,
            "grid_row": null,
            "max_height": null,
            "align_content": null,
            "visibility": null,
            "align_self": null,
            "height": null,
            "min_height": null,
            "padding": null,
            "grid_auto_rows": null,
            "grid_gap": null,
            "max_width": null,
            "order": null,
            "_view_module_version": "1.2.0",
            "grid_template_areas": null,
            "object_position": null,
            "object_fit": null,
            "grid_auto_columns": null,
            "margin": null,
            "display": null,
            "left": null
          }
        },
        "3044cb8f3a304ea0b96acaab7e8e0848": {
          "model_module": "@jupyter-widgets/controls",
          "model_name": "FloatProgressModel",
          "state": {
            "_view_name": "ProgressView",
            "style": "IPY_MODEL_7ab0c436b0e64ef3a172f4fb420ead74",
            "_dom_classes": [],
            "description": "Process Latitude: 100%",
            "_model_name": "FloatProgressModel",
            "bar_style": "success",
            "max": 21048,
            "_view_module": "@jupyter-widgets/controls",
            "_model_module_version": "1.5.0",
            "value": 21048,
            "_view_count": null,
            "_view_module_version": "1.5.0",
            "orientation": "horizontal",
            "min": 0,
            "description_tooltip": null,
            "_model_module": "@jupyter-widgets/controls",
            "layout": "IPY_MODEL_1c9f576214f94508a9038bdbb2ee4ca6"
          }
        },
        "31e0b0a5719c42939cd28d661d3f6e35": {
          "model_module": "@jupyter-widgets/controls",
          "model_name": "HTMLModel",
          "state": {
            "_view_name": "HTMLView",
            "style": "IPY_MODEL_f3f896d319cd410d84fe33f582bcaa11",
            "_dom_classes": [],
            "description": "",
            "_model_name": "HTMLModel",
            "placeholder": "​",
            "_view_module": "@jupyter-widgets/controls",
            "_model_module_version": "1.5.0",
            "value": " 21048/21048 [09:50&lt;00:00, 35.66it/s]",
            "_view_count": null,
            "_view_module_version": "1.5.0",
            "description_tooltip": null,
            "_model_module": "@jupyter-widgets/controls",
            "layout": "IPY_MODEL_0ba1f0cb726f410f898f1b8cd9f10e27"
          }
        },
        "7ab0c436b0e64ef3a172f4fb420ead74": {
          "model_module": "@jupyter-widgets/controls",
          "model_name": "ProgressStyleModel",
          "state": {
            "_view_name": "StyleView",
            "_model_name": "ProgressStyleModel",
            "description_width": "initial",
            "_view_module": "@jupyter-widgets/base",
            "_model_module_version": "1.5.0",
            "_view_count": null,
            "_view_module_version": "1.2.0",
            "bar_color": null,
            "_model_module": "@jupyter-widgets/controls"
          }
        },
        "1c9f576214f94508a9038bdbb2ee4ca6": {
          "model_module": "@jupyter-widgets/base",
          "model_name": "LayoutModel",
          "state": {
            "_view_name": "LayoutView",
            "grid_template_rows": null,
            "right": null,
            "justify_content": null,
            "_view_module": "@jupyter-widgets/base",
            "overflow": null,
            "_model_module_version": "1.2.0",
            "_view_count": null,
            "flex_flow": null,
            "width": null,
            "min_width": null,
            "border": null,
            "align_items": null,
            "bottom": null,
            "_model_module": "@jupyter-widgets/base",
            "top": null,
            "grid_column": null,
            "overflow_y": null,
            "overflow_x": null,
            "grid_auto_flow": null,
            "grid_area": null,
            "grid_template_columns": null,
            "flex": null,
            "_model_name": "LayoutModel",
            "justify_items": null,
            "grid_row": null,
            "max_height": null,
            "align_content": null,
            "visibility": null,
            "align_self": null,
            "height": null,
            "min_height": null,
            "padding": null,
            "grid_auto_rows": null,
            "grid_gap": null,
            "max_width": null,
            "order": null,
            "_view_module_version": "1.2.0",
            "grid_template_areas": null,
            "object_position": null,
            "object_fit": null,
            "grid_auto_columns": null,
            "margin": null,
            "display": null,
            "left": null
          }
        },
        "f3f896d319cd410d84fe33f582bcaa11": {
          "model_module": "@jupyter-widgets/controls",
          "model_name": "DescriptionStyleModel",
          "state": {
            "_view_name": "StyleView",
            "_model_name": "DescriptionStyleModel",
            "description_width": "",
            "_view_module": "@jupyter-widgets/base",
            "_model_module_version": "1.5.0",
            "_view_count": null,
            "_view_module_version": "1.2.0",
            "_model_module": "@jupyter-widgets/controls"
          }
        },
        "0ba1f0cb726f410f898f1b8cd9f10e27": {
          "model_module": "@jupyter-widgets/base",
          "model_name": "LayoutModel",
          "state": {
            "_view_name": "LayoutView",
            "grid_template_rows": null,
            "right": null,
            "justify_content": null,
            "_view_module": "@jupyter-widgets/base",
            "overflow": null,
            "_model_module_version": "1.2.0",
            "_view_count": null,
            "flex_flow": null,
            "width": null,
            "min_width": null,
            "border": null,
            "align_items": null,
            "bottom": null,
            "_model_module": "@jupyter-widgets/base",
            "top": null,
            "grid_column": null,
            "overflow_y": null,
            "overflow_x": null,
            "grid_auto_flow": null,
            "grid_area": null,
            "grid_template_columns": null,
            "flex": null,
            "_model_name": "LayoutModel",
            "justify_items": null,
            "grid_row": null,
            "max_height": null,
            "align_content": null,
            "visibility": null,
            "align_self": null,
            "height": null,
            "min_height": null,
            "padding": null,
            "grid_auto_rows": null,
            "grid_gap": null,
            "max_width": null,
            "order": null,
            "_view_module_version": "1.2.0",
            "grid_template_areas": null,
            "object_position": null,
            "object_fit": null,
            "grid_auto_columns": null,
            "margin": null,
            "display": null,
            "left": null
          }
        },
        "26384d33464a491886b1b7c7f2640b7b": {
          "model_module": "@jupyter-widgets/controls",
          "model_name": "HBoxModel",
          "state": {
            "_view_name": "HBoxView",
            "_dom_classes": [],
            "_model_name": "HBoxModel",
            "_view_module": "@jupyter-widgets/controls",
            "_model_module_version": "1.5.0",
            "_view_count": null,
            "_view_module_version": "1.5.0",
            "box_style": "",
            "layout": "IPY_MODEL_cc012a7ab31a4b6284e15c9ba33fa102",
            "_model_module": "@jupyter-widgets/controls",
            "children": [
              "IPY_MODEL_45075172046449eea1d56daaef6be376",
              "IPY_MODEL_b398096c430a414f83f53068d959f077"
            ]
          }
        },
        "cc012a7ab31a4b6284e15c9ba33fa102": {
          "model_module": "@jupyter-widgets/base",
          "model_name": "LayoutModel",
          "state": {
            "_view_name": "LayoutView",
            "grid_template_rows": null,
            "right": null,
            "justify_content": null,
            "_view_module": "@jupyter-widgets/base",
            "overflow": null,
            "_model_module_version": "1.2.0",
            "_view_count": null,
            "flex_flow": null,
            "width": null,
            "min_width": null,
            "border": null,
            "align_items": null,
            "bottom": null,
            "_model_module": "@jupyter-widgets/base",
            "top": null,
            "grid_column": null,
            "overflow_y": null,
            "overflow_x": null,
            "grid_auto_flow": null,
            "grid_area": null,
            "grid_template_columns": null,
            "flex": null,
            "_model_name": "LayoutModel",
            "justify_items": null,
            "grid_row": null,
            "max_height": null,
            "align_content": null,
            "visibility": null,
            "align_self": null,
            "height": null,
            "min_height": null,
            "padding": null,
            "grid_auto_rows": null,
            "grid_gap": null,
            "max_width": null,
            "order": null,
            "_view_module_version": "1.2.0",
            "grid_template_areas": null,
            "object_position": null,
            "object_fit": null,
            "grid_auto_columns": null,
            "margin": null,
            "display": null,
            "left": null
          }
        },
        "45075172046449eea1d56daaef6be376": {
          "model_module": "@jupyter-widgets/controls",
          "model_name": "FloatProgressModel",
          "state": {
            "_view_name": "ProgressView",
            "style": "IPY_MODEL_10f5c73e7bee435d9b3c93601925fc2f",
            "_dom_classes": [],
            "description": "Process Longitude: 100%",
            "_model_name": "FloatProgressModel",
            "bar_style": "success",
            "max": 21048,
            "_view_module": "@jupyter-widgets/controls",
            "_model_module_version": "1.5.0",
            "value": 21048,
            "_view_count": null,
            "_view_module_version": "1.5.0",
            "orientation": "horizontal",
            "min": 0,
            "description_tooltip": null,
            "_model_module": "@jupyter-widgets/controls",
            "layout": "IPY_MODEL_b98a4926ed8d4c28b9c73343987bd7fb"
          }
        },
        "b398096c430a414f83f53068d959f077": {
          "model_module": "@jupyter-widgets/controls",
          "model_name": "HTMLModel",
          "state": {
            "_view_name": "HTMLView",
            "style": "IPY_MODEL_58efeed5993f429e8628e0ddc44c8b51",
            "_dom_classes": [],
            "description": "",
            "_model_name": "HTMLModel",
            "placeholder": "​",
            "_view_module": "@jupyter-widgets/controls",
            "_model_module_version": "1.5.0",
            "value": " 21048/21048 [00:00&lt;00:00, 222313.27it/s]",
            "_view_count": null,
            "_view_module_version": "1.5.0",
            "description_tooltip": null,
            "_model_module": "@jupyter-widgets/controls",
            "layout": "IPY_MODEL_cdee1c0f67b64b1dbc5f04895cc1ac5d"
          }
        },
        "10f5c73e7bee435d9b3c93601925fc2f": {
          "model_module": "@jupyter-widgets/controls",
          "model_name": "ProgressStyleModel",
          "state": {
            "_view_name": "StyleView",
            "_model_name": "ProgressStyleModel",
            "description_width": "initial",
            "_view_module": "@jupyter-widgets/base",
            "_model_module_version": "1.5.0",
            "_view_count": null,
            "_view_module_version": "1.2.0",
            "bar_color": null,
            "_model_module": "@jupyter-widgets/controls"
          }
        },
        "b98a4926ed8d4c28b9c73343987bd7fb": {
          "model_module": "@jupyter-widgets/base",
          "model_name": "LayoutModel",
          "state": {
            "_view_name": "LayoutView",
            "grid_template_rows": null,
            "right": null,
            "justify_content": null,
            "_view_module": "@jupyter-widgets/base",
            "overflow": null,
            "_model_module_version": "1.2.0",
            "_view_count": null,
            "flex_flow": null,
            "width": null,
            "min_width": null,
            "border": null,
            "align_items": null,
            "bottom": null,
            "_model_module": "@jupyter-widgets/base",
            "top": null,
            "grid_column": null,
            "overflow_y": null,
            "overflow_x": null,
            "grid_auto_flow": null,
            "grid_area": null,
            "grid_template_columns": null,
            "flex": null,
            "_model_name": "LayoutModel",
            "justify_items": null,
            "grid_row": null,
            "max_height": null,
            "align_content": null,
            "visibility": null,
            "align_self": null,
            "height": null,
            "min_height": null,
            "padding": null,
            "grid_auto_rows": null,
            "grid_gap": null,
            "max_width": null,
            "order": null,
            "_view_module_version": "1.2.0",
            "grid_template_areas": null,
            "object_position": null,
            "object_fit": null,
            "grid_auto_columns": null,
            "margin": null,
            "display": null,
            "left": null
          }
        },
        "58efeed5993f429e8628e0ddc44c8b51": {
          "model_module": "@jupyter-widgets/controls",
          "model_name": "DescriptionStyleModel",
          "state": {
            "_view_name": "StyleView",
            "_model_name": "DescriptionStyleModel",
            "description_width": "",
            "_view_module": "@jupyter-widgets/base",
            "_model_module_version": "1.5.0",
            "_view_count": null,
            "_view_module_version": "1.2.0",
            "_model_module": "@jupyter-widgets/controls"
          }
        },
        "cdee1c0f67b64b1dbc5f04895cc1ac5d": {
          "model_module": "@jupyter-widgets/base",
          "model_name": "LayoutModel",
          "state": {
            "_view_name": "LayoutView",
            "grid_template_rows": null,
            "right": null,
            "justify_content": null,
            "_view_module": "@jupyter-widgets/base",
            "overflow": null,
            "_model_module_version": "1.2.0",
            "_view_count": null,
            "flex_flow": null,
            "width": null,
            "min_width": null,
            "border": null,
            "align_items": null,
            "bottom": null,
            "_model_module": "@jupyter-widgets/base",
            "top": null,
            "grid_column": null,
            "overflow_y": null,
            "overflow_x": null,
            "grid_auto_flow": null,
            "grid_area": null,
            "grid_template_columns": null,
            "flex": null,
            "_model_name": "LayoutModel",
            "justify_items": null,
            "grid_row": null,
            "max_height": null,
            "align_content": null,
            "visibility": null,
            "align_self": null,
            "height": null,
            "min_height": null,
            "padding": null,
            "grid_auto_rows": null,
            "grid_gap": null,
            "max_width": null,
            "order": null,
            "_view_module_version": "1.2.0",
            "grid_template_areas": null,
            "object_position": null,
            "object_fit": null,
            "grid_auto_columns": null,
            "margin": null,
            "display": null,
            "left": null
          }
        },
        "c8050df34b5a45c7bfd98183366e90f1": {
          "model_module": "@jupyter-widgets/controls",
          "model_name": "HBoxModel",
          "state": {
            "_view_name": "HBoxView",
            "_dom_classes": [],
            "_model_name": "HBoxModel",
            "_view_module": "@jupyter-widgets/controls",
            "_model_module_version": "1.5.0",
            "_view_count": null,
            "_view_module_version": "1.5.0",
            "box_style": "",
            "layout": "IPY_MODEL_a7b2d874320845bcba6348cbc5e8b423",
            "_model_module": "@jupyter-widgets/controls",
            "children": [
              "IPY_MODEL_df007fffdf42450ab015f401d1a0d857",
              "IPY_MODEL_d052c537760048af8bb7ca42b6cc7cf9"
            ]
          }
        },
        "a7b2d874320845bcba6348cbc5e8b423": {
          "model_module": "@jupyter-widgets/base",
          "model_name": "LayoutModel",
          "state": {
            "_view_name": "LayoutView",
            "grid_template_rows": null,
            "right": null,
            "justify_content": null,
            "_view_module": "@jupyter-widgets/base",
            "overflow": null,
            "_model_module_version": "1.2.0",
            "_view_count": null,
            "flex_flow": null,
            "width": null,
            "min_width": null,
            "border": null,
            "align_items": null,
            "bottom": null,
            "_model_module": "@jupyter-widgets/base",
            "top": null,
            "grid_column": null,
            "overflow_y": null,
            "overflow_x": null,
            "grid_auto_flow": null,
            "grid_area": null,
            "grid_template_columns": null,
            "flex": null,
            "_model_name": "LayoutModel",
            "justify_items": null,
            "grid_row": null,
            "max_height": null,
            "align_content": null,
            "visibility": null,
            "align_self": null,
            "height": null,
            "min_height": null,
            "padding": null,
            "grid_auto_rows": null,
            "grid_gap": null,
            "max_width": null,
            "order": null,
            "_view_module_version": "1.2.0",
            "grid_template_areas": null,
            "object_position": null,
            "object_fit": null,
            "grid_auto_columns": null,
            "margin": null,
            "display": null,
            "left": null
          }
        },
        "df007fffdf42450ab015f401d1a0d857": {
          "model_module": "@jupyter-widgets/controls",
          "model_name": "FloatProgressModel",
          "state": {
            "_view_name": "ProgressView",
            "style": "IPY_MODEL_bd29d2eea9c94d5bbbbd7767cdc7b5c7",
            "_dom_classes": [],
            "description": "Encrypt Latitude: 100%",
            "_model_name": "FloatProgressModel",
            "bar_style": "success",
            "max": 21048,
            "_view_module": "@jupyter-widgets/controls",
            "_model_module_version": "1.5.0",
            "value": 21048,
            "_view_count": null,
            "_view_module_version": "1.5.0",
            "orientation": "horizontal",
            "min": 0,
            "description_tooltip": null,
            "_model_module": "@jupyter-widgets/controls",
            "layout": "IPY_MODEL_fb4b3e6d8cb240d3ba2de85c4945ec88"
          }
        },
        "d052c537760048af8bb7ca42b6cc7cf9": {
          "model_module": "@jupyter-widgets/controls",
          "model_name": "HTMLModel",
          "state": {
            "_view_name": "HTMLView",
            "style": "IPY_MODEL_6bf03288a44f46e18ceb67cbf2bcb41b",
            "_dom_classes": [],
            "description": "",
            "_model_name": "HTMLModel",
            "placeholder": "​",
            "_view_module": "@jupyter-widgets/controls",
            "_model_module_version": "1.5.0",
            "value": " 21048/21048 [02:19&lt;00:00, 151.17it/s]",
            "_view_count": null,
            "_view_module_version": "1.5.0",
            "description_tooltip": null,
            "_model_module": "@jupyter-widgets/controls",
            "layout": "IPY_MODEL_bcb2a809ed84453dbce396c4b94a4be2"
          }
        },
        "bd29d2eea9c94d5bbbbd7767cdc7b5c7": {
          "model_module": "@jupyter-widgets/controls",
          "model_name": "ProgressStyleModel",
          "state": {
            "_view_name": "StyleView",
            "_model_name": "ProgressStyleModel",
            "description_width": "initial",
            "_view_module": "@jupyter-widgets/base",
            "_model_module_version": "1.5.0",
            "_view_count": null,
            "_view_module_version": "1.2.0",
            "bar_color": null,
            "_model_module": "@jupyter-widgets/controls"
          }
        },
        "fb4b3e6d8cb240d3ba2de85c4945ec88": {
          "model_module": "@jupyter-widgets/base",
          "model_name": "LayoutModel",
          "state": {
            "_view_name": "LayoutView",
            "grid_template_rows": null,
            "right": null,
            "justify_content": null,
            "_view_module": "@jupyter-widgets/base",
            "overflow": null,
            "_model_module_version": "1.2.0",
            "_view_count": null,
            "flex_flow": null,
            "width": null,
            "min_width": null,
            "border": null,
            "align_items": null,
            "bottom": null,
            "_model_module": "@jupyter-widgets/base",
            "top": null,
            "grid_column": null,
            "overflow_y": null,
            "overflow_x": null,
            "grid_auto_flow": null,
            "grid_area": null,
            "grid_template_columns": null,
            "flex": null,
            "_model_name": "LayoutModel",
            "justify_items": null,
            "grid_row": null,
            "max_height": null,
            "align_content": null,
            "visibility": null,
            "align_self": null,
            "height": null,
            "min_height": null,
            "padding": null,
            "grid_auto_rows": null,
            "grid_gap": null,
            "max_width": null,
            "order": null,
            "_view_module_version": "1.2.0",
            "grid_template_areas": null,
            "object_position": null,
            "object_fit": null,
            "grid_auto_columns": null,
            "margin": null,
            "display": null,
            "left": null
          }
        },
        "6bf03288a44f46e18ceb67cbf2bcb41b": {
          "model_module": "@jupyter-widgets/controls",
          "model_name": "DescriptionStyleModel",
          "state": {
            "_view_name": "StyleView",
            "_model_name": "DescriptionStyleModel",
            "description_width": "",
            "_view_module": "@jupyter-widgets/base",
            "_model_module_version": "1.5.0",
            "_view_count": null,
            "_view_module_version": "1.2.0",
            "_model_module": "@jupyter-widgets/controls"
          }
        },
        "bcb2a809ed84453dbce396c4b94a4be2": {
          "model_module": "@jupyter-widgets/base",
          "model_name": "LayoutModel",
          "state": {
            "_view_name": "LayoutView",
            "grid_template_rows": null,
            "right": null,
            "justify_content": null,
            "_view_module": "@jupyter-widgets/base",
            "overflow": null,
            "_model_module_version": "1.2.0",
            "_view_count": null,
            "flex_flow": null,
            "width": null,
            "min_width": null,
            "border": null,
            "align_items": null,
            "bottom": null,
            "_model_module": "@jupyter-widgets/base",
            "top": null,
            "grid_column": null,
            "overflow_y": null,
            "overflow_x": null,
            "grid_auto_flow": null,
            "grid_area": null,
            "grid_template_columns": null,
            "flex": null,
            "_model_name": "LayoutModel",
            "justify_items": null,
            "grid_row": null,
            "max_height": null,
            "align_content": null,
            "visibility": null,
            "align_self": null,
            "height": null,
            "min_height": null,
            "padding": null,
            "grid_auto_rows": null,
            "grid_gap": null,
            "max_width": null,
            "order": null,
            "_view_module_version": "1.2.0",
            "grid_template_areas": null,
            "object_position": null,
            "object_fit": null,
            "grid_auto_columns": null,
            "margin": null,
            "display": null,
            "left": null
          }
        },
        "60d74a8d73d44d82a6b6b27a4e4c99fa": {
          "model_module": "@jupyter-widgets/controls",
          "model_name": "HBoxModel",
          "state": {
            "_view_name": "HBoxView",
            "_dom_classes": [],
            "_model_name": "HBoxModel",
            "_view_module": "@jupyter-widgets/controls",
            "_model_module_version": "1.5.0",
            "_view_count": null,
            "_view_module_version": "1.5.0",
            "box_style": "",
            "layout": "IPY_MODEL_81d3ff9a130443e682032b4d3b50e4dd",
            "_model_module": "@jupyter-widgets/controls",
            "children": [
              "IPY_MODEL_ce1c88bf9a6749c3a70c190445830506",
              "IPY_MODEL_489770e0a1da475681faceea0d5aa9ba"
            ]
          }
        },
        "81d3ff9a130443e682032b4d3b50e4dd": {
          "model_module": "@jupyter-widgets/base",
          "model_name": "LayoutModel",
          "state": {
            "_view_name": "LayoutView",
            "grid_template_rows": null,
            "right": null,
            "justify_content": null,
            "_view_module": "@jupyter-widgets/base",
            "overflow": null,
            "_model_module_version": "1.2.0",
            "_view_count": null,
            "flex_flow": null,
            "width": null,
            "min_width": null,
            "border": null,
            "align_items": null,
            "bottom": null,
            "_model_module": "@jupyter-widgets/base",
            "top": null,
            "grid_column": null,
            "overflow_y": null,
            "overflow_x": null,
            "grid_auto_flow": null,
            "grid_area": null,
            "grid_template_columns": null,
            "flex": null,
            "_model_name": "LayoutModel",
            "justify_items": null,
            "grid_row": null,
            "max_height": null,
            "align_content": null,
            "visibility": null,
            "align_self": null,
            "height": null,
            "min_height": null,
            "padding": null,
            "grid_auto_rows": null,
            "grid_gap": null,
            "max_width": null,
            "order": null,
            "_view_module_version": "1.2.0",
            "grid_template_areas": null,
            "object_position": null,
            "object_fit": null,
            "grid_auto_columns": null,
            "margin": null,
            "display": null,
            "left": null
          }
        },
        "ce1c88bf9a6749c3a70c190445830506": {
          "model_module": "@jupyter-widgets/controls",
          "model_name": "FloatProgressModel",
          "state": {
            "_view_name": "ProgressView",
            "style": "IPY_MODEL_ebc334196e984d22bd248d021712f032",
            "_dom_classes": [],
            "description": "Encrypt Longitude: 100%",
            "_model_name": "FloatProgressModel",
            "bar_style": "success",
            "max": 21048,
            "_view_module": "@jupyter-widgets/controls",
            "_model_module_version": "1.5.0",
            "value": 21048,
            "_view_count": null,
            "_view_module_version": "1.5.0",
            "orientation": "horizontal",
            "min": 0,
            "description_tooltip": null,
            "_model_module": "@jupyter-widgets/controls",
            "layout": "IPY_MODEL_e2ddf4768ce74f5baf642c30026c3ec7"
          }
        },
        "489770e0a1da475681faceea0d5aa9ba": {
          "model_module": "@jupyter-widgets/controls",
          "model_name": "HTMLModel",
          "state": {
            "_view_name": "HTMLView",
            "style": "IPY_MODEL_fd29bebca8ef46069793ba2321844fc6",
            "_dom_classes": [],
            "description": "",
            "_model_name": "HTMLModel",
            "placeholder": "​",
            "_view_module": "@jupyter-widgets/controls",
            "_model_module_version": "1.5.0",
            "value": " 21048/21048 [01:10&lt;00:00, 297.51it/s]",
            "_view_count": null,
            "_view_module_version": "1.5.0",
            "description_tooltip": null,
            "_model_module": "@jupyter-widgets/controls",
            "layout": "IPY_MODEL_501cdc58456648a998207fe13689440f"
          }
        },
        "ebc334196e984d22bd248d021712f032": {
          "model_module": "@jupyter-widgets/controls",
          "model_name": "ProgressStyleModel",
          "state": {
            "_view_name": "StyleView",
            "_model_name": "ProgressStyleModel",
            "description_width": "initial",
            "_view_module": "@jupyter-widgets/base",
            "_model_module_version": "1.5.0",
            "_view_count": null,
            "_view_module_version": "1.2.0",
            "bar_color": null,
            "_model_module": "@jupyter-widgets/controls"
          }
        },
        "e2ddf4768ce74f5baf642c30026c3ec7": {
          "model_module": "@jupyter-widgets/base",
          "model_name": "LayoutModel",
          "state": {
            "_view_name": "LayoutView",
            "grid_template_rows": null,
            "right": null,
            "justify_content": null,
            "_view_module": "@jupyter-widgets/base",
            "overflow": null,
            "_model_module_version": "1.2.0",
            "_view_count": null,
            "flex_flow": null,
            "width": null,
            "min_width": null,
            "border": null,
            "align_items": null,
            "bottom": null,
            "_model_module": "@jupyter-widgets/base",
            "top": null,
            "grid_column": null,
            "overflow_y": null,
            "overflow_x": null,
            "grid_auto_flow": null,
            "grid_area": null,
            "grid_template_columns": null,
            "flex": null,
            "_model_name": "LayoutModel",
            "justify_items": null,
            "grid_row": null,
            "max_height": null,
            "align_content": null,
            "visibility": null,
            "align_self": null,
            "height": null,
            "min_height": null,
            "padding": null,
            "grid_auto_rows": null,
            "grid_gap": null,
            "max_width": null,
            "order": null,
            "_view_module_version": "1.2.0",
            "grid_template_areas": null,
            "object_position": null,
            "object_fit": null,
            "grid_auto_columns": null,
            "margin": null,
            "display": null,
            "left": null
          }
        },
        "fd29bebca8ef46069793ba2321844fc6": {
          "model_module": "@jupyter-widgets/controls",
          "model_name": "DescriptionStyleModel",
          "state": {
            "_view_name": "StyleView",
            "_model_name": "DescriptionStyleModel",
            "description_width": "",
            "_view_module": "@jupyter-widgets/base",
            "_model_module_version": "1.5.0",
            "_view_count": null,
            "_view_module_version": "1.2.0",
            "_model_module": "@jupyter-widgets/controls"
          }
        },
        "501cdc58456648a998207fe13689440f": {
          "model_module": "@jupyter-widgets/base",
          "model_name": "LayoutModel",
          "state": {
            "_view_name": "LayoutView",
            "grid_template_rows": null,
            "right": null,
            "justify_content": null,
            "_view_module": "@jupyter-widgets/base",
            "overflow": null,
            "_model_module_version": "1.2.0",
            "_view_count": null,
            "flex_flow": null,
            "width": null,
            "min_width": null,
            "border": null,
            "align_items": null,
            "bottom": null,
            "_model_module": "@jupyter-widgets/base",
            "top": null,
            "grid_column": null,
            "overflow_y": null,
            "overflow_x": null,
            "grid_auto_flow": null,
            "grid_area": null,
            "grid_template_columns": null,
            "flex": null,
            "_model_name": "LayoutModel",
            "justify_items": null,
            "grid_row": null,
            "max_height": null,
            "align_content": null,
            "visibility": null,
            "align_self": null,
            "height": null,
            "min_height": null,
            "padding": null,
            "grid_auto_rows": null,
            "grid_gap": null,
            "max_width": null,
            "order": null,
            "_view_module_version": "1.2.0",
            "grid_template_areas": null,
            "object_position": null,
            "object_fit": null,
            "grid_auto_columns": null,
            "margin": null,
            "display": null,
            "left": null
          }
        },
        "060f696a91c44749b5aac7b5b128112f": {
          "model_module": "@jupyter-widgets/controls",
          "model_name": "HBoxModel",
          "state": {
            "_view_name": "HBoxView",
            "_dom_classes": [],
            "_model_name": "HBoxModel",
            "_view_module": "@jupyter-widgets/controls",
            "_model_module_version": "1.5.0",
            "_view_count": null,
            "_view_module_version": "1.5.0",
            "box_style": "",
            "layout": "IPY_MODEL_d6cd3823730846e18531881683b10d0c",
            "_model_module": "@jupyter-widgets/controls",
            "children": [
              "IPY_MODEL_2ef9c2fc299c40a89b1627979ea68168",
              "IPY_MODEL_b953f716b04f4756aebda769c1f0fead"
            ]
          }
        },
        "d6cd3823730846e18531881683b10d0c": {
          "model_module": "@jupyter-widgets/base",
          "model_name": "LayoutModel",
          "state": {
            "_view_name": "LayoutView",
            "grid_template_rows": null,
            "right": null,
            "justify_content": null,
            "_view_module": "@jupyter-widgets/base",
            "overflow": null,
            "_model_module_version": "1.2.0",
            "_view_count": null,
            "flex_flow": null,
            "width": null,
            "min_width": null,
            "border": null,
            "align_items": null,
            "bottom": null,
            "_model_module": "@jupyter-widgets/base",
            "top": null,
            "grid_column": null,
            "overflow_y": null,
            "overflow_x": null,
            "grid_auto_flow": null,
            "grid_area": null,
            "grid_template_columns": null,
            "flex": null,
            "_model_name": "LayoutModel",
            "justify_items": null,
            "grid_row": null,
            "max_height": null,
            "align_content": null,
            "visibility": null,
            "align_self": null,
            "height": null,
            "min_height": null,
            "padding": null,
            "grid_auto_rows": null,
            "grid_gap": null,
            "max_width": null,
            "order": null,
            "_view_module_version": "1.2.0",
            "grid_template_areas": null,
            "object_position": null,
            "object_fit": null,
            "grid_auto_columns": null,
            "margin": null,
            "display": null,
            "left": null
          }
        },
        "2ef9c2fc299c40a89b1627979ea68168": {
          "model_module": "@jupyter-widgets/controls",
          "model_name": "FloatProgressModel",
          "state": {
            "_view_name": "ProgressView",
            "style": "IPY_MODEL_728c311f1fed4d889748c72d0696ebd3",
            "_dom_classes": [],
            "description": "ScalingAtk Lat: 100%",
            "_model_name": "FloatProgressModel",
            "bar_style": "success",
            "max": 21048,
            "_view_module": "@jupyter-widgets/controls",
            "_model_module_version": "1.5.0",
            "value": 21048,
            "_view_count": null,
            "_view_module_version": "1.5.0",
            "orientation": "horizontal",
            "min": 0,
            "description_tooltip": null,
            "_model_module": "@jupyter-widgets/controls",
            "layout": "IPY_MODEL_69dcc293f18c4852b9ae08846779fde5"
          }
        },
        "b953f716b04f4756aebda769c1f0fead": {
          "model_module": "@jupyter-widgets/controls",
          "model_name": "HTMLModel",
          "state": {
            "_view_name": "HTMLView",
            "style": "IPY_MODEL_48658b7eb05a45379d59550b2c34f3d7",
            "_dom_classes": [],
            "description": "",
            "_model_name": "HTMLModel",
            "placeholder": "​",
            "_view_module": "@jupyter-widgets/controls",
            "_model_module_version": "1.5.0",
            "value": " 21048/21048 [00:00&lt;00:00, 115577.85it/s]",
            "_view_count": null,
            "_view_module_version": "1.5.0",
            "description_tooltip": null,
            "_model_module": "@jupyter-widgets/controls",
            "layout": "IPY_MODEL_31592fa6ad6c4c65a83830567e5e7a4f"
          }
        },
        "728c311f1fed4d889748c72d0696ebd3": {
          "model_module": "@jupyter-widgets/controls",
          "model_name": "ProgressStyleModel",
          "state": {
            "_view_name": "StyleView",
            "_model_name": "ProgressStyleModel",
            "description_width": "initial",
            "_view_module": "@jupyter-widgets/base",
            "_model_module_version": "1.5.0",
            "_view_count": null,
            "_view_module_version": "1.2.0",
            "bar_color": null,
            "_model_module": "@jupyter-widgets/controls"
          }
        },
        "69dcc293f18c4852b9ae08846779fde5": {
          "model_module": "@jupyter-widgets/base",
          "model_name": "LayoutModel",
          "state": {
            "_view_name": "LayoutView",
            "grid_template_rows": null,
            "right": null,
            "justify_content": null,
            "_view_module": "@jupyter-widgets/base",
            "overflow": null,
            "_model_module_version": "1.2.0",
            "_view_count": null,
            "flex_flow": null,
            "width": null,
            "min_width": null,
            "border": null,
            "align_items": null,
            "bottom": null,
            "_model_module": "@jupyter-widgets/base",
            "top": null,
            "grid_column": null,
            "overflow_y": null,
            "overflow_x": null,
            "grid_auto_flow": null,
            "grid_area": null,
            "grid_template_columns": null,
            "flex": null,
            "_model_name": "LayoutModel",
            "justify_items": null,
            "grid_row": null,
            "max_height": null,
            "align_content": null,
            "visibility": null,
            "align_self": null,
            "height": null,
            "min_height": null,
            "padding": null,
            "grid_auto_rows": null,
            "grid_gap": null,
            "max_width": null,
            "order": null,
            "_view_module_version": "1.2.0",
            "grid_template_areas": null,
            "object_position": null,
            "object_fit": null,
            "grid_auto_columns": null,
            "margin": null,
            "display": null,
            "left": null
          }
        },
        "48658b7eb05a45379d59550b2c34f3d7": {
          "model_module": "@jupyter-widgets/controls",
          "model_name": "DescriptionStyleModel",
          "state": {
            "_view_name": "StyleView",
            "_model_name": "DescriptionStyleModel",
            "description_width": "",
            "_view_module": "@jupyter-widgets/base",
            "_model_module_version": "1.5.0",
            "_view_count": null,
            "_view_module_version": "1.2.0",
            "_model_module": "@jupyter-widgets/controls"
          }
        },
        "31592fa6ad6c4c65a83830567e5e7a4f": {
          "model_module": "@jupyter-widgets/base",
          "model_name": "LayoutModel",
          "state": {
            "_view_name": "LayoutView",
            "grid_template_rows": null,
            "right": null,
            "justify_content": null,
            "_view_module": "@jupyter-widgets/base",
            "overflow": null,
            "_model_module_version": "1.2.0",
            "_view_count": null,
            "flex_flow": null,
            "width": null,
            "min_width": null,
            "border": null,
            "align_items": null,
            "bottom": null,
            "_model_module": "@jupyter-widgets/base",
            "top": null,
            "grid_column": null,
            "overflow_y": null,
            "overflow_x": null,
            "grid_auto_flow": null,
            "grid_area": null,
            "grid_template_columns": null,
            "flex": null,
            "_model_name": "LayoutModel",
            "justify_items": null,
            "grid_row": null,
            "max_height": null,
            "align_content": null,
            "visibility": null,
            "align_self": null,
            "height": null,
            "min_height": null,
            "padding": null,
            "grid_auto_rows": null,
            "grid_gap": null,
            "max_width": null,
            "order": null,
            "_view_module_version": "1.2.0",
            "grid_template_areas": null,
            "object_position": null,
            "object_fit": null,
            "grid_auto_columns": null,
            "margin": null,
            "display": null,
            "left": null
          }
        },
        "3584363a56b647219b56f3aac008712f": {
          "model_module": "@jupyter-widgets/controls",
          "model_name": "HBoxModel",
          "state": {
            "_view_name": "HBoxView",
            "_dom_classes": [],
            "_model_name": "HBoxModel",
            "_view_module": "@jupyter-widgets/controls",
            "_model_module_version": "1.5.0",
            "_view_count": null,
            "_view_module_version": "1.5.0",
            "box_style": "",
            "layout": "IPY_MODEL_acba42f6209a4ab18e57bdc490cb0c9b",
            "_model_module": "@jupyter-widgets/controls",
            "children": [
              "IPY_MODEL_cdfa32ef709b4399a89bec8af439f7d9",
              "IPY_MODEL_ce40fa40478740c685db6c5822299431"
            ]
          }
        },
        "acba42f6209a4ab18e57bdc490cb0c9b": {
          "model_module": "@jupyter-widgets/base",
          "model_name": "LayoutModel",
          "state": {
            "_view_name": "LayoutView",
            "grid_template_rows": null,
            "right": null,
            "justify_content": null,
            "_view_module": "@jupyter-widgets/base",
            "overflow": null,
            "_model_module_version": "1.2.0",
            "_view_count": null,
            "flex_flow": null,
            "width": null,
            "min_width": null,
            "border": null,
            "align_items": null,
            "bottom": null,
            "_model_module": "@jupyter-widgets/base",
            "top": null,
            "grid_column": null,
            "overflow_y": null,
            "overflow_x": null,
            "grid_auto_flow": null,
            "grid_area": null,
            "grid_template_columns": null,
            "flex": null,
            "_model_name": "LayoutModel",
            "justify_items": null,
            "grid_row": null,
            "max_height": null,
            "align_content": null,
            "visibility": null,
            "align_self": null,
            "height": null,
            "min_height": null,
            "padding": null,
            "grid_auto_rows": null,
            "grid_gap": null,
            "max_width": null,
            "order": null,
            "_view_module_version": "1.2.0",
            "grid_template_areas": null,
            "object_position": null,
            "object_fit": null,
            "grid_auto_columns": null,
            "margin": null,
            "display": null,
            "left": null
          }
        },
        "cdfa32ef709b4399a89bec8af439f7d9": {
          "model_module": "@jupyter-widgets/controls",
          "model_name": "FloatProgressModel",
          "state": {
            "_view_name": "ProgressView",
            "style": "IPY_MODEL_fb1734311bb44fdc812fd88dde31781a",
            "_dom_classes": [],
            "description": "ScalingAtk Long: 100%",
            "_model_name": "FloatProgressModel",
            "bar_style": "success",
            "max": 21048,
            "_view_module": "@jupyter-widgets/controls",
            "_model_module_version": "1.5.0",
            "value": 21048,
            "_view_count": null,
            "_view_module_version": "1.5.0",
            "orientation": "horizontal",
            "min": 0,
            "description_tooltip": null,
            "_model_module": "@jupyter-widgets/controls",
            "layout": "IPY_MODEL_29de90fd100447c29fd35b2e1481f769"
          }
        },
        "ce40fa40478740c685db6c5822299431": {
          "model_module": "@jupyter-widgets/controls",
          "model_name": "HTMLModel",
          "state": {
            "_view_name": "HTMLView",
            "style": "IPY_MODEL_a396fe89ec834fa798927b0c05563e94",
            "_dom_classes": [],
            "description": "",
            "_model_name": "HTMLModel",
            "placeholder": "​",
            "_view_module": "@jupyter-widgets/controls",
            "_model_module_version": "1.5.0",
            "value": " 21048/21048 [00:00&lt;00:00, 226247.92it/s]",
            "_view_count": null,
            "_view_module_version": "1.5.0",
            "description_tooltip": null,
            "_model_module": "@jupyter-widgets/controls",
            "layout": "IPY_MODEL_de7df4a021654cc2a8e20a978f94a3c7"
          }
        },
        "fb1734311bb44fdc812fd88dde31781a": {
          "model_module": "@jupyter-widgets/controls",
          "model_name": "ProgressStyleModel",
          "state": {
            "_view_name": "StyleView",
            "_model_name": "ProgressStyleModel",
            "description_width": "initial",
            "_view_module": "@jupyter-widgets/base",
            "_model_module_version": "1.5.0",
            "_view_count": null,
            "_view_module_version": "1.2.0",
            "bar_color": null,
            "_model_module": "@jupyter-widgets/controls"
          }
        },
        "29de90fd100447c29fd35b2e1481f769": {
          "model_module": "@jupyter-widgets/base",
          "model_name": "LayoutModel",
          "state": {
            "_view_name": "LayoutView",
            "grid_template_rows": null,
            "right": null,
            "justify_content": null,
            "_view_module": "@jupyter-widgets/base",
            "overflow": null,
            "_model_module_version": "1.2.0",
            "_view_count": null,
            "flex_flow": null,
            "width": null,
            "min_width": null,
            "border": null,
            "align_items": null,
            "bottom": null,
            "_model_module": "@jupyter-widgets/base",
            "top": null,
            "grid_column": null,
            "overflow_y": null,
            "overflow_x": null,
            "grid_auto_flow": null,
            "grid_area": null,
            "grid_template_columns": null,
            "flex": null,
            "_model_name": "LayoutModel",
            "justify_items": null,
            "grid_row": null,
            "max_height": null,
            "align_content": null,
            "visibility": null,
            "align_self": null,
            "height": null,
            "min_height": null,
            "padding": null,
            "grid_auto_rows": null,
            "grid_gap": null,
            "max_width": null,
            "order": null,
            "_view_module_version": "1.2.0",
            "grid_template_areas": null,
            "object_position": null,
            "object_fit": null,
            "grid_auto_columns": null,
            "margin": null,
            "display": null,
            "left": null
          }
        },
        "a396fe89ec834fa798927b0c05563e94": {
          "model_module": "@jupyter-widgets/controls",
          "model_name": "DescriptionStyleModel",
          "state": {
            "_view_name": "StyleView",
            "_model_name": "DescriptionStyleModel",
            "description_width": "",
            "_view_module": "@jupyter-widgets/base",
            "_model_module_version": "1.5.0",
            "_view_count": null,
            "_view_module_version": "1.2.0",
            "_model_module": "@jupyter-widgets/controls"
          }
        },
        "de7df4a021654cc2a8e20a978f94a3c7": {
          "model_module": "@jupyter-widgets/base",
          "model_name": "LayoutModel",
          "state": {
            "_view_name": "LayoutView",
            "grid_template_rows": null,
            "right": null,
            "justify_content": null,
            "_view_module": "@jupyter-widgets/base",
            "overflow": null,
            "_model_module_version": "1.2.0",
            "_view_count": null,
            "flex_flow": null,
            "width": null,
            "min_width": null,
            "border": null,
            "align_items": null,
            "bottom": null,
            "_model_module": "@jupyter-widgets/base",
            "top": null,
            "grid_column": null,
            "overflow_y": null,
            "overflow_x": null,
            "grid_auto_flow": null,
            "grid_area": null,
            "grid_template_columns": null,
            "flex": null,
            "_model_name": "LayoutModel",
            "justify_items": null,
            "grid_row": null,
            "max_height": null,
            "align_content": null,
            "visibility": null,
            "align_self": null,
            "height": null,
            "min_height": null,
            "padding": null,
            "grid_auto_rows": null,
            "grid_gap": null,
            "max_width": null,
            "order": null,
            "_view_module_version": "1.2.0",
            "grid_template_areas": null,
            "object_position": null,
            "object_fit": null,
            "grid_auto_columns": null,
            "margin": null,
            "display": null,
            "left": null
          }
        },
        "6494471a04cd4e94bd63d4d0203c4495": {
          "model_module": "@jupyter-widgets/controls",
          "model_name": "HBoxModel",
          "state": {
            "_view_name": "HBoxView",
            "_dom_classes": [],
            "_model_name": "HBoxModel",
            "_view_module": "@jupyter-widgets/controls",
            "_model_module_version": "1.5.0",
            "_view_count": null,
            "_view_module_version": "1.5.0",
            "box_style": "",
            "layout": "IPY_MODEL_441f4b277ca449aba198d7122b9b2279",
            "_model_module": "@jupyter-widgets/controls",
            "children": [
              "IPY_MODEL_1c8f18f2ae0a4c5fb2133a7e8dfb728d",
              "IPY_MODEL_8ba2eb39702747e790788a6c4f01f20a"
            ]
          }
        },
        "441f4b277ca449aba198d7122b9b2279": {
          "model_module": "@jupyter-widgets/base",
          "model_name": "LayoutModel",
          "state": {
            "_view_name": "LayoutView",
            "grid_template_rows": null,
            "right": null,
            "justify_content": null,
            "_view_module": "@jupyter-widgets/base",
            "overflow": null,
            "_model_module_version": "1.2.0",
            "_view_count": null,
            "flex_flow": null,
            "width": null,
            "min_width": null,
            "border": null,
            "align_items": null,
            "bottom": null,
            "_model_module": "@jupyter-widgets/base",
            "top": null,
            "grid_column": null,
            "overflow_y": null,
            "overflow_x": null,
            "grid_auto_flow": null,
            "grid_area": null,
            "grid_template_columns": null,
            "flex": null,
            "_model_name": "LayoutModel",
            "justify_items": null,
            "grid_row": null,
            "max_height": null,
            "align_content": null,
            "visibility": null,
            "align_self": null,
            "height": null,
            "min_height": null,
            "padding": null,
            "grid_auto_rows": null,
            "grid_gap": null,
            "max_width": null,
            "order": null,
            "_view_module_version": "1.2.0",
            "grid_template_areas": null,
            "object_position": null,
            "object_fit": null,
            "grid_auto_columns": null,
            "margin": null,
            "display": null,
            "left": null
          }
        },
        "1c8f18f2ae0a4c5fb2133a7e8dfb728d": {
          "model_module": "@jupyter-widgets/controls",
          "model_name": "FloatProgressModel",
          "state": {
            "_view_name": "ProgressView",
            "style": "IPY_MODEL_4383cc28844c4ccbb266c005e4558c6d",
            "_dom_classes": [],
            "description": "Unprocess Lat: 100%",
            "_model_name": "FloatProgressModel",
            "bar_style": "success",
            "max": 21048,
            "_view_module": "@jupyter-widgets/controls",
            "_model_module_version": "1.5.0",
            "value": 21048,
            "_view_count": null,
            "_view_module_version": "1.5.0",
            "orientation": "horizontal",
            "min": 0,
            "description_tooltip": null,
            "_model_module": "@jupyter-widgets/controls",
            "layout": "IPY_MODEL_23d08c9fb3fd4d97a0577ef9a71f4a9b"
          }
        },
        "8ba2eb39702747e790788a6c4f01f20a": {
          "model_module": "@jupyter-widgets/controls",
          "model_name": "HTMLModel",
          "state": {
            "_view_name": "HTMLView",
            "style": "IPY_MODEL_f04cc696f2914b52959e5c1698e8e140",
            "_dom_classes": [],
            "description": "",
            "_model_name": "HTMLModel",
            "placeholder": "​",
            "_view_module": "@jupyter-widgets/controls",
            "_model_module_version": "1.5.0",
            "value": " 21048/21048 [00:00&lt;00:00, 36799.92it/s]",
            "_view_count": null,
            "_view_module_version": "1.5.0",
            "description_tooltip": null,
            "_model_module": "@jupyter-widgets/controls",
            "layout": "IPY_MODEL_1b74dea75ba341aa9312ab0e87c8b67a"
          }
        },
        "4383cc28844c4ccbb266c005e4558c6d": {
          "model_module": "@jupyter-widgets/controls",
          "model_name": "ProgressStyleModel",
          "state": {
            "_view_name": "StyleView",
            "_model_name": "ProgressStyleModel",
            "description_width": "initial",
            "_view_module": "@jupyter-widgets/base",
            "_model_module_version": "1.5.0",
            "_view_count": null,
            "_view_module_version": "1.2.0",
            "bar_color": null,
            "_model_module": "@jupyter-widgets/controls"
          }
        },
        "23d08c9fb3fd4d97a0577ef9a71f4a9b": {
          "model_module": "@jupyter-widgets/base",
          "model_name": "LayoutModel",
          "state": {
            "_view_name": "LayoutView",
            "grid_template_rows": null,
            "right": null,
            "justify_content": null,
            "_view_module": "@jupyter-widgets/base",
            "overflow": null,
            "_model_module_version": "1.2.0",
            "_view_count": null,
            "flex_flow": null,
            "width": null,
            "min_width": null,
            "border": null,
            "align_items": null,
            "bottom": null,
            "_model_module": "@jupyter-widgets/base",
            "top": null,
            "grid_column": null,
            "overflow_y": null,
            "overflow_x": null,
            "grid_auto_flow": null,
            "grid_area": null,
            "grid_template_columns": null,
            "flex": null,
            "_model_name": "LayoutModel",
            "justify_items": null,
            "grid_row": null,
            "max_height": null,
            "align_content": null,
            "visibility": null,
            "align_self": null,
            "height": null,
            "min_height": null,
            "padding": null,
            "grid_auto_rows": null,
            "grid_gap": null,
            "max_width": null,
            "order": null,
            "_view_module_version": "1.2.0",
            "grid_template_areas": null,
            "object_position": null,
            "object_fit": null,
            "grid_auto_columns": null,
            "margin": null,
            "display": null,
            "left": null
          }
        },
        "f04cc696f2914b52959e5c1698e8e140": {
          "model_module": "@jupyter-widgets/controls",
          "model_name": "DescriptionStyleModel",
          "state": {
            "_view_name": "StyleView",
            "_model_name": "DescriptionStyleModel",
            "description_width": "",
            "_view_module": "@jupyter-widgets/base",
            "_model_module_version": "1.5.0",
            "_view_count": null,
            "_view_module_version": "1.2.0",
            "_model_module": "@jupyter-widgets/controls"
          }
        },
        "1b74dea75ba341aa9312ab0e87c8b67a": {
          "model_module": "@jupyter-widgets/base",
          "model_name": "LayoutModel",
          "state": {
            "_view_name": "LayoutView",
            "grid_template_rows": null,
            "right": null,
            "justify_content": null,
            "_view_module": "@jupyter-widgets/base",
            "overflow": null,
            "_model_module_version": "1.2.0",
            "_view_count": null,
            "flex_flow": null,
            "width": null,
            "min_width": null,
            "border": null,
            "align_items": null,
            "bottom": null,
            "_model_module": "@jupyter-widgets/base",
            "top": null,
            "grid_column": null,
            "overflow_y": null,
            "overflow_x": null,
            "grid_auto_flow": null,
            "grid_area": null,
            "grid_template_columns": null,
            "flex": null,
            "_model_name": "LayoutModel",
            "justify_items": null,
            "grid_row": null,
            "max_height": null,
            "align_content": null,
            "visibility": null,
            "align_self": null,
            "height": null,
            "min_height": null,
            "padding": null,
            "grid_auto_rows": null,
            "grid_gap": null,
            "max_width": null,
            "order": null,
            "_view_module_version": "1.2.0",
            "grid_template_areas": null,
            "object_position": null,
            "object_fit": null,
            "grid_auto_columns": null,
            "margin": null,
            "display": null,
            "left": null
          }
        },
        "96400c8aaedb49d29ff85125f2a94df8": {
          "model_module": "@jupyter-widgets/controls",
          "model_name": "HBoxModel",
          "state": {
            "_view_name": "HBoxView",
            "_dom_classes": [],
            "_model_name": "HBoxModel",
            "_view_module": "@jupyter-widgets/controls",
            "_model_module_version": "1.5.0",
            "_view_count": null,
            "_view_module_version": "1.5.0",
            "box_style": "",
            "layout": "IPY_MODEL_ac3e4d906f52408b8a2a9a42f8be88fc",
            "_model_module": "@jupyter-widgets/controls",
            "children": [
              "IPY_MODEL_c5190559795e410eb74c8e50a6df0250",
              "IPY_MODEL_0f134b9edc614be083399120de819223"
            ]
          }
        },
        "ac3e4d906f52408b8a2a9a42f8be88fc": {
          "model_module": "@jupyter-widgets/base",
          "model_name": "LayoutModel",
          "state": {
            "_view_name": "LayoutView",
            "grid_template_rows": null,
            "right": null,
            "justify_content": null,
            "_view_module": "@jupyter-widgets/base",
            "overflow": null,
            "_model_module_version": "1.2.0",
            "_view_count": null,
            "flex_flow": null,
            "width": null,
            "min_width": null,
            "border": null,
            "align_items": null,
            "bottom": null,
            "_model_module": "@jupyter-widgets/base",
            "top": null,
            "grid_column": null,
            "overflow_y": null,
            "overflow_x": null,
            "grid_auto_flow": null,
            "grid_area": null,
            "grid_template_columns": null,
            "flex": null,
            "_model_name": "LayoutModel",
            "justify_items": null,
            "grid_row": null,
            "max_height": null,
            "align_content": null,
            "visibility": null,
            "align_self": null,
            "height": null,
            "min_height": null,
            "padding": null,
            "grid_auto_rows": null,
            "grid_gap": null,
            "max_width": null,
            "order": null,
            "_view_module_version": "1.2.0",
            "grid_template_areas": null,
            "object_position": null,
            "object_fit": null,
            "grid_auto_columns": null,
            "margin": null,
            "display": null,
            "left": null
          }
        },
        "c5190559795e410eb74c8e50a6df0250": {
          "model_module": "@jupyter-widgets/controls",
          "model_name": "FloatProgressModel",
          "state": {
            "_view_name": "ProgressView",
            "style": "IPY_MODEL_60eac6b843af4a82953591728d5e5a73",
            "_dom_classes": [],
            "description": "Unprocess Long: 100%",
            "_model_name": "FloatProgressModel",
            "bar_style": "success",
            "max": 21048,
            "_view_module": "@jupyter-widgets/controls",
            "_model_module_version": "1.5.0",
            "value": 21048,
            "_view_count": null,
            "_view_module_version": "1.5.0",
            "orientation": "horizontal",
            "min": 0,
            "description_tooltip": null,
            "_model_module": "@jupyter-widgets/controls",
            "layout": "IPY_MODEL_5b199ba2f90b49e69a5a0d705d267367"
          }
        },
        "0f134b9edc614be083399120de819223": {
          "model_module": "@jupyter-widgets/controls",
          "model_name": "HTMLModel",
          "state": {
            "_view_name": "HTMLView",
            "style": "IPY_MODEL_353b75654a34402bbba13cdb98069fd2",
            "_dom_classes": [],
            "description": "",
            "_model_name": "HTMLModel",
            "placeholder": "​",
            "_view_module": "@jupyter-widgets/controls",
            "_model_module_version": "1.5.0",
            "value": " 21048/21048 [00:00&lt;00:00, 61663.15it/s]",
            "_view_count": null,
            "_view_module_version": "1.5.0",
            "description_tooltip": null,
            "_model_module": "@jupyter-widgets/controls",
            "layout": "IPY_MODEL_b9a1db33b35d477881880512ce43199c"
          }
        },
        "60eac6b843af4a82953591728d5e5a73": {
          "model_module": "@jupyter-widgets/controls",
          "model_name": "ProgressStyleModel",
          "state": {
            "_view_name": "StyleView",
            "_model_name": "ProgressStyleModel",
            "description_width": "initial",
            "_view_module": "@jupyter-widgets/base",
            "_model_module_version": "1.5.0",
            "_view_count": null,
            "_view_module_version": "1.2.0",
            "bar_color": null,
            "_model_module": "@jupyter-widgets/controls"
          }
        },
        "5b199ba2f90b49e69a5a0d705d267367": {
          "model_module": "@jupyter-widgets/base",
          "model_name": "LayoutModel",
          "state": {
            "_view_name": "LayoutView",
            "grid_template_rows": null,
            "right": null,
            "justify_content": null,
            "_view_module": "@jupyter-widgets/base",
            "overflow": null,
            "_model_module_version": "1.2.0",
            "_view_count": null,
            "flex_flow": null,
            "width": null,
            "min_width": null,
            "border": null,
            "align_items": null,
            "bottom": null,
            "_model_module": "@jupyter-widgets/base",
            "top": null,
            "grid_column": null,
            "overflow_y": null,
            "overflow_x": null,
            "grid_auto_flow": null,
            "grid_area": null,
            "grid_template_columns": null,
            "flex": null,
            "_model_name": "LayoutModel",
            "justify_items": null,
            "grid_row": null,
            "max_height": null,
            "align_content": null,
            "visibility": null,
            "align_self": null,
            "height": null,
            "min_height": null,
            "padding": null,
            "grid_auto_rows": null,
            "grid_gap": null,
            "max_width": null,
            "order": null,
            "_view_module_version": "1.2.0",
            "grid_template_areas": null,
            "object_position": null,
            "object_fit": null,
            "grid_auto_columns": null,
            "margin": null,
            "display": null,
            "left": null
          }
        },
        "353b75654a34402bbba13cdb98069fd2": {
          "model_module": "@jupyter-widgets/controls",
          "model_name": "DescriptionStyleModel",
          "state": {
            "_view_name": "StyleView",
            "_model_name": "DescriptionStyleModel",
            "description_width": "",
            "_view_module": "@jupyter-widgets/base",
            "_model_module_version": "1.5.0",
            "_view_count": null,
            "_view_module_version": "1.2.0",
            "_model_module": "@jupyter-widgets/controls"
          }
        },
        "b9a1db33b35d477881880512ce43199c": {
          "model_module": "@jupyter-widgets/base",
          "model_name": "LayoutModel",
          "state": {
            "_view_name": "LayoutView",
            "grid_template_rows": null,
            "right": null,
            "justify_content": null,
            "_view_module": "@jupyter-widgets/base",
            "overflow": null,
            "_model_module_version": "1.2.0",
            "_view_count": null,
            "flex_flow": null,
            "width": null,
            "min_width": null,
            "border": null,
            "align_items": null,
            "bottom": null,
            "_model_module": "@jupyter-widgets/base",
            "top": null,
            "grid_column": null,
            "overflow_y": null,
            "overflow_x": null,
            "grid_auto_flow": null,
            "grid_area": null,
            "grid_template_columns": null,
            "flex": null,
            "_model_name": "LayoutModel",
            "justify_items": null,
            "grid_row": null,
            "max_height": null,
            "align_content": null,
            "visibility": null,
            "align_self": null,
            "height": null,
            "min_height": null,
            "padding": null,
            "grid_auto_rows": null,
            "grid_gap": null,
            "max_width": null,
            "order": null,
            "_view_module_version": "1.2.0",
            "grid_template_areas": null,
            "object_position": null,
            "object_fit": null,
            "grid_auto_columns": null,
            "margin": null,
            "display": null,
            "left": null
          }
        },
        "d8c657ee02e541c4a91d1188081c0a24": {
          "model_module": "@jupyter-widgets/controls",
          "model_name": "HBoxModel",
          "state": {
            "_view_name": "HBoxView",
            "_dom_classes": [],
            "_model_name": "HBoxModel",
            "_view_module": "@jupyter-widgets/controls",
            "_model_module_version": "1.5.0",
            "_view_count": null,
            "_view_module_version": "1.5.0",
            "box_style": "",
            "layout": "IPY_MODEL_f2780285c8934d13a6a0cb96aa426cae",
            "_model_module": "@jupyter-widgets/controls",
            "children": [
              "IPY_MODEL_e789789bb116442a84851d0ad78369ce",
              "IPY_MODEL_522aad3840f84fe391ef33a3631e9a1e"
            ]
          }
        },
        "f2780285c8934d13a6a0cb96aa426cae": {
          "model_module": "@jupyter-widgets/base",
          "model_name": "LayoutModel",
          "state": {
            "_view_name": "LayoutView",
            "grid_template_rows": null,
            "right": null,
            "justify_content": null,
            "_view_module": "@jupyter-widgets/base",
            "overflow": null,
            "_model_module_version": "1.2.0",
            "_view_count": null,
            "flex_flow": null,
            "width": null,
            "min_width": null,
            "border": null,
            "align_items": null,
            "bottom": null,
            "_model_module": "@jupyter-widgets/base",
            "top": null,
            "grid_column": null,
            "overflow_y": null,
            "overflow_x": null,
            "grid_auto_flow": null,
            "grid_area": null,
            "grid_template_columns": null,
            "flex": null,
            "_model_name": "LayoutModel",
            "justify_items": null,
            "grid_row": null,
            "max_height": null,
            "align_content": null,
            "visibility": null,
            "align_self": null,
            "height": null,
            "min_height": null,
            "padding": null,
            "grid_auto_rows": null,
            "grid_gap": null,
            "max_width": null,
            "order": null,
            "_view_module_version": "1.2.0",
            "grid_template_areas": null,
            "object_position": null,
            "object_fit": null,
            "grid_auto_columns": null,
            "margin": null,
            "display": null,
            "left": null
          }
        },
        "e789789bb116442a84851d0ad78369ce": {
          "model_module": "@jupyter-widgets/controls",
          "model_name": "FloatProgressModel",
          "state": {
            "_view_name": "ProgressView",
            "style": "IPY_MODEL_922f2bf2c9c74e5394142d16e2a3684e",
            "_dom_classes": [],
            "description": "Unprocess Long: 100%",
            "_model_name": "FloatProgressModel",
            "bar_style": "success",
            "max": 21048,
            "_view_module": "@jupyter-widgets/controls",
            "_model_module_version": "1.5.0",
            "value": 21048,
            "_view_count": null,
            "_view_module_version": "1.5.0",
            "orientation": "horizontal",
            "min": 0,
            "description_tooltip": null,
            "_model_module": "@jupyter-widgets/controls",
            "layout": "IPY_MODEL_57a67f86e9804054aa8c7d6564806cb6"
          }
        },
        "522aad3840f84fe391ef33a3631e9a1e": {
          "model_module": "@jupyter-widgets/controls",
          "model_name": "HTMLModel",
          "state": {
            "_view_name": "HTMLView",
            "style": "IPY_MODEL_6634466097c9464ebcc3cf8da15635f6",
            "_dom_classes": [],
            "description": "",
            "_model_name": "HTMLModel",
            "placeholder": "​",
            "_view_module": "@jupyter-widgets/controls",
            "_model_module_version": "1.5.0",
            "value": " 21048/21048 [05:57&lt;00:00, 58.86it/s]",
            "_view_count": null,
            "_view_module_version": "1.5.0",
            "description_tooltip": null,
            "_model_module": "@jupyter-widgets/controls",
            "layout": "IPY_MODEL_1c95edf48061441bbf1c47860ea3693b"
          }
        },
        "922f2bf2c9c74e5394142d16e2a3684e": {
          "model_module": "@jupyter-widgets/controls",
          "model_name": "ProgressStyleModel",
          "state": {
            "_view_name": "StyleView",
            "_model_name": "ProgressStyleModel",
            "description_width": "initial",
            "_view_module": "@jupyter-widgets/base",
            "_model_module_version": "1.5.0",
            "_view_count": null,
            "_view_module_version": "1.2.0",
            "bar_color": null,
            "_model_module": "@jupyter-widgets/controls"
          }
        },
        "57a67f86e9804054aa8c7d6564806cb6": {
          "model_module": "@jupyter-widgets/base",
          "model_name": "LayoutModel",
          "state": {
            "_view_name": "LayoutView",
            "grid_template_rows": null,
            "right": null,
            "justify_content": null,
            "_view_module": "@jupyter-widgets/base",
            "overflow": null,
            "_model_module_version": "1.2.0",
            "_view_count": null,
            "flex_flow": null,
            "width": null,
            "min_width": null,
            "border": null,
            "align_items": null,
            "bottom": null,
            "_model_module": "@jupyter-widgets/base",
            "top": null,
            "grid_column": null,
            "overflow_y": null,
            "overflow_x": null,
            "grid_auto_flow": null,
            "grid_area": null,
            "grid_template_columns": null,
            "flex": null,
            "_model_name": "LayoutModel",
            "justify_items": null,
            "grid_row": null,
            "max_height": null,
            "align_content": null,
            "visibility": null,
            "align_self": null,
            "height": null,
            "min_height": null,
            "padding": null,
            "grid_auto_rows": null,
            "grid_gap": null,
            "max_width": null,
            "order": null,
            "_view_module_version": "1.2.0",
            "grid_template_areas": null,
            "object_position": null,
            "object_fit": null,
            "grid_auto_columns": null,
            "margin": null,
            "display": null,
            "left": null
          }
        },
        "6634466097c9464ebcc3cf8da15635f6": {
          "model_module": "@jupyter-widgets/controls",
          "model_name": "DescriptionStyleModel",
          "state": {
            "_view_name": "StyleView",
            "_model_name": "DescriptionStyleModel",
            "description_width": "",
            "_view_module": "@jupyter-widgets/base",
            "_model_module_version": "1.5.0",
            "_view_count": null,
            "_view_module_version": "1.2.0",
            "_model_module": "@jupyter-widgets/controls"
          }
        },
        "1c95edf48061441bbf1c47860ea3693b": {
          "model_module": "@jupyter-widgets/base",
          "model_name": "LayoutModel",
          "state": {
            "_view_name": "LayoutView",
            "grid_template_rows": null,
            "right": null,
            "justify_content": null,
            "_view_module": "@jupyter-widgets/base",
            "overflow": null,
            "_model_module_version": "1.2.0",
            "_view_count": null,
            "flex_flow": null,
            "width": null,
            "min_width": null,
            "border": null,
            "align_items": null,
            "bottom": null,
            "_model_module": "@jupyter-widgets/base",
            "top": null,
            "grid_column": null,
            "overflow_y": null,
            "overflow_x": null,
            "grid_auto_flow": null,
            "grid_area": null,
            "grid_template_columns": null,
            "flex": null,
            "_model_name": "LayoutModel",
            "justify_items": null,
            "grid_row": null,
            "max_height": null,
            "align_content": null,
            "visibility": null,
            "align_self": null,
            "height": null,
            "min_height": null,
            "padding": null,
            "grid_auto_rows": null,
            "grid_gap": null,
            "max_width": null,
            "order": null,
            "_view_module_version": "1.2.0",
            "grid_template_areas": null,
            "object_position": null,
            "object_fit": null,
            "grid_auto_columns": null,
            "margin": null,
            "display": null,
            "left": null
          }
        }
      }
    }
  },
  "cells": [
    {
      "cell_type": "markdown",
      "metadata": {
        "id": "view-in-github",
        "colab_type": "text"
      },
      "source": [
        "<a href=\"https://colab.research.google.com/github/saritwik/DeepLearning/blob/master/Copy_of_Improving_attacks_on_leaky_order_revealing_encryption_schemes.ipynb\" target=\"_parent\"><img src=\"https://colab.research.google.com/assets/colab-badge.svg\" alt=\"Open In Colab\"/></a>"
      ]
    },
    {
      "cell_type": "markdown",
      "metadata": {
        "id": "0rKEjTF58L12"
      },
      "source": [
        "# Improving attacks on leaky order-revealing encryption schemes\r\n",
        "\r\n",
        "```\r\n",
        "# This is formatted as code\r\n",
        "```\r\n",
        "\r\n"
      ]
    },
    {
      "cell_type": "code",
      "metadata": {
        "colab": {
          "base_uri": "https://localhost:8080/"
        },
        "id": "nc4XSSwihVA9",
        "outputId": "eb38fe0f-b0e6-4e4a-f5e0-f3bcfdcb84a9"
      },
      "source": [
        "!pip install pyope"
      ],
      "execution_count": null,
      "outputs": [
        {
          "output_type": "stream",
          "text": [
            "Requirement already satisfied: pyope in /usr/local/lib/python3.6/dist-packages (0.2.2)\n",
            "Requirement already satisfied: six>=1.5.0 in /usr/local/lib/python3.6/dist-packages (from pyope) (1.15.0)\n",
            "Requirement already satisfied: cryptography>=1.1 in /usr/local/lib/python3.6/dist-packages (from pyope) (3.3.1)\n",
            "Requirement already satisfied: cffi>=1.12 in /usr/local/lib/python3.6/dist-packages (from cryptography>=1.1->pyope) (1.14.4)\n",
            "Requirement already satisfied: pycparser in /usr/local/lib/python3.6/dist-packages (from cffi>=1.12->cryptography>=1.1->pyope) (2.20)\n"
          ],
          "name": "stdout"
        }
      ]
    },
    {
      "cell_type": "markdown",
      "metadata": {
        "id": "6aQGydRi8qeX"
      },
      "source": [
        "## California Road Intersection Data\r\n",
        "1. Download csv and load in pandas dataframe\r\n",
        "2. Preprocesses lat/long for encryption [Remove decimal point]"
      ]
    },
    {
      "cell_type": "code",
      "metadata": {
        "colab": {
          "base_uri": "https://localhost:8080/",
          "height": 333,
          "referenced_widgets": [
            "c371a24092ee48c6ab4639e7376d9b3a",
            "ed3ab1826d0543bbbb82cbbc6f704a85",
            "3044cb8f3a304ea0b96acaab7e8e0848",
            "31e0b0a5719c42939cd28d661d3f6e35",
            "7ab0c436b0e64ef3a172f4fb420ead74",
            "1c9f576214f94508a9038bdbb2ee4ca6",
            "f3f896d319cd410d84fe33f582bcaa11",
            "0ba1f0cb726f410f898f1b8cd9f10e27",
            "26384d33464a491886b1b7c7f2640b7b",
            "cc012a7ab31a4b6284e15c9ba33fa102",
            "45075172046449eea1d56daaef6be376",
            "b398096c430a414f83f53068d959f077",
            "10f5c73e7bee435d9b3c93601925fc2f",
            "b98a4926ed8d4c28b9c73343987bd7fb",
            "58efeed5993f429e8628e0ddc44c8b51",
            "cdee1c0f67b64b1dbc5f04895cc1ac5d"
          ]
        },
        "id": "O4AU9fcjNUUu",
        "outputId": "e3dec0d5-0bc1-4992-e0c6-8cc73c982eb2"
      },
      "source": [
        "import math\r\n",
        "import pandas as pd\r\n",
        "from tqdm.notebook import tqdm\r\n",
        "\r\n",
        "full_data = pd.read_csv(r'http://www.cs.utah.edu/~lifeifei/research/tpq/cal.cnode', header=None, sep=' ', index_col=0, names=['id','long','lat'])\r\n",
        "\r\n",
        "data = full_data\r\n",
        "#data = full_data.sample(2000)\r\n",
        "\r\n",
        "M=20\r\n",
        "N=32\r\n",
        "\r\n",
        "def proc_lat(x):\r\n",
        "  return math.floor((10**6)*((x + 90)/180))\r\n",
        "\r\n",
        "def unproc_lat(x):\r\n",
        "  return (x/10**6)*180 - 90\r\n",
        "\r\n",
        "def proc_long(x):\r\n",
        "  return math.floor((10**6)*((x + 180)/360))\r\n",
        "\r\n",
        "def unproc_long(x):\r\n",
        "  return (x/10**6)*360 - 180\r\n",
        "\r\n",
        "def normalize(sample): \r\n",
        "  tqdm.pandas(desc='Process Latitude')\r\n",
        "  sample['proc_lat'] = sample['lat'].progress_apply(proc_lat)\r\n",
        "  tqdm.pandas(desc='Process Longitude')\r\n",
        "  sample['proc_long'] = sample['long'].progress_apply(proc_long)\r\n",
        "  return sample\r\n",
        "\r\n",
        "data = normalize(data)\r\n",
        "data.head()"
      ],
      "execution_count": null,
      "outputs": [
        {
          "output_type": "display_data",
          "data": {
            "application/vnd.jupyter.widget-view+json": {
              "model_id": "c371a24092ee48c6ab4639e7376d9b3a",
              "version_minor": 0,
              "version_major": 2
            },
            "text/plain": [
              "HBox(children=(FloatProgress(value=0.0, description='Process Latitude', max=21048.0, style=ProgressStyle(descr…"
            ]
          },
          "metadata": {
            "tags": []
          }
        },
        {
          "output_type": "stream",
          "text": [
            "\n"
          ],
          "name": "stdout"
        },
        {
          "output_type": "display_data",
          "data": {
            "application/vnd.jupyter.widget-view+json": {
              "model_id": "26384d33464a491886b1b7c7f2640b7b",
              "version_minor": 0,
              "version_major": 2
            },
            "text/plain": [
              "HBox(children=(FloatProgress(value=0.0, description='Process Longitude', max=21048.0, style=ProgressStyle(desc…"
            ]
          },
          "metadata": {
            "tags": []
          }
        },
        {
          "output_type": "stream",
          "text": [
            "\n"
          ],
          "name": "stdout"
        },
        {
          "output_type": "execute_result",
          "data": {
            "text/html": [
              "<div>\n",
              "<style scoped>\n",
              "    .dataframe tbody tr th:only-of-type {\n",
              "        vertical-align: middle;\n",
              "    }\n",
              "\n",
              "    .dataframe tbody tr th {\n",
              "        vertical-align: top;\n",
              "    }\n",
              "\n",
              "    .dataframe thead th {\n",
              "        text-align: right;\n",
              "    }\n",
              "</style>\n",
              "<table border=\"1\" class=\"dataframe\">\n",
              "  <thead>\n",
              "    <tr style=\"text-align: right;\">\n",
              "      <th></th>\n",
              "      <th>long</th>\n",
              "      <th>lat</th>\n",
              "      <th>proc_lat</th>\n",
              "      <th>proc_long</th>\n",
              "    </tr>\n",
              "    <tr>\n",
              "      <th>id</th>\n",
              "      <th></th>\n",
              "      <th></th>\n",
              "      <th></th>\n",
              "      <th></th>\n",
              "    </tr>\n",
              "  </thead>\n",
              "  <tbody>\n",
              "    <tr>\n",
              "      <th>0</th>\n",
              "      <td>-121.904167</td>\n",
              "      <td>41.974556</td>\n",
              "      <td>733191</td>\n",
              "      <td>161377</td>\n",
              "    </tr>\n",
              "    <tr>\n",
              "      <th>1</th>\n",
              "      <td>-121.902153</td>\n",
              "      <td>41.974766</td>\n",
              "      <td>733193</td>\n",
              "      <td>161382</td>\n",
              "    </tr>\n",
              "    <tr>\n",
              "      <th>2</th>\n",
              "      <td>-121.896790</td>\n",
              "      <td>41.988075</td>\n",
              "      <td>733267</td>\n",
              "      <td>161397</td>\n",
              "    </tr>\n",
              "    <tr>\n",
              "      <th>3</th>\n",
              "      <td>-121.889603</td>\n",
              "      <td>41.998032</td>\n",
              "      <td>733322</td>\n",
              "      <td>161417</td>\n",
              "    </tr>\n",
              "    <tr>\n",
              "      <th>4</th>\n",
              "      <td>-121.886681</td>\n",
              "      <td>42.008739</td>\n",
              "      <td>733381</td>\n",
              "      <td>161425</td>\n",
              "    </tr>\n",
              "  </tbody>\n",
              "</table>\n",
              "</div>"
            ],
            "text/plain": [
              "          long        lat  proc_lat  proc_long\n",
              "id                                            \n",
              "0  -121.904167  41.974556    733191     161377\n",
              "1  -121.902153  41.974766    733193     161382\n",
              "2  -121.896790  41.988075    733267     161397\n",
              "3  -121.889603  41.998032    733322     161417\n",
              "4  -121.886681  42.008739    733381     161425"
            ]
          },
          "metadata": {
            "tags": []
          },
          "execution_count": 9
        }
      ]
    },
    {
      "cell_type": "markdown",
      "metadata": {
        "id": "cYnbE58k9bdA"
      },
      "source": [
        "## ORE Encryption\r\n",
        "\r\n",
        "ORE Implementation - https://github.com/tonyo/pyope\r\n",
        "\r\n",
        "This is an implementation of Boldyreva symmetric order-preserving encryption scheme."
      ]
    },
    {
      "cell_type": "code",
      "metadata": {
        "colab": {
          "base_uri": "https://localhost:8080/",
          "height": 333,
          "referenced_widgets": [
            "c8050df34b5a45c7bfd98183366e90f1",
            "a7b2d874320845bcba6348cbc5e8b423",
            "df007fffdf42450ab015f401d1a0d857",
            "d052c537760048af8bb7ca42b6cc7cf9",
            "bd29d2eea9c94d5bbbbd7767cdc7b5c7",
            "fb4b3e6d8cb240d3ba2de85c4945ec88",
            "6bf03288a44f46e18ceb67cbf2bcb41b",
            "bcb2a809ed84453dbce396c4b94a4be2",
            "60d74a8d73d44d82a6b6b27a4e4c99fa",
            "81d3ff9a130443e682032b4d3b50e4dd",
            "ce1c88bf9a6749c3a70c190445830506",
            "489770e0a1da475681faceea0d5aa9ba",
            "ebc334196e984d22bd248d021712f032",
            "e2ddf4768ce74f5baf642c30026c3ec7",
            "fd29bebca8ef46069793ba2321844fc6",
            "501cdc58456648a998207fe13689440f"
          ]
        },
        "id": "vf94AIrU8fxw",
        "outputId": "6cc50de5-ae6f-47fd-95b2-b3e879e05f01"
      },
      "source": [
        "from pyope.ope import OPE, ValueRange\r\n",
        "\r\n",
        "random_key1 = OPE.generate_key()\r\n",
        "cipher1 = OPE(random_key1, in_range=ValueRange(0, 2**M), out_range=ValueRange(0, 2**N))\r\n",
        "\r\n",
        "random_key2 = OPE.generate_key()\r\n",
        "cipher2 = OPE(random_key2, in_range=ValueRange(0, 2**M), out_range=ValueRange(0, 2**N))\r\n",
        "\r\n",
        "def encrypt(sample):\r\n",
        "  tqdm.pandas(desc='Encrypt Latitude')\r\n",
        "  sample['cipher_lat'] = sample['proc_lat'].progress_apply(cipher1.encrypt)\r\n",
        "  tqdm.pandas(desc='Encrypt Longitude')\r\n",
        "  sample['cipher_long'] = sample['proc_long'].progress_apply(cipher2.encrypt)\r\n",
        "  return sample\r\n",
        "\r\n",
        "data = encrypt(data)\r\n",
        "data.head()"
      ],
      "execution_count": null,
      "outputs": [
        {
          "output_type": "display_data",
          "data": {
            "application/vnd.jupyter.widget-view+json": {
              "model_id": "c8050df34b5a45c7bfd98183366e90f1",
              "version_minor": 0,
              "version_major": 2
            },
            "text/plain": [
              "HBox(children=(FloatProgress(value=0.0, description='Encrypt Latitude', max=21048.0, style=ProgressStyle(descr…"
            ]
          },
          "metadata": {
            "tags": []
          }
        },
        {
          "output_type": "stream",
          "text": [
            "\n"
          ],
          "name": "stdout"
        },
        {
          "output_type": "display_data",
          "data": {
            "application/vnd.jupyter.widget-view+json": {
              "model_id": "60d74a8d73d44d82a6b6b27a4e4c99fa",
              "version_minor": 0,
              "version_major": 2
            },
            "text/plain": [
              "HBox(children=(FloatProgress(value=0.0, description='Encrypt Longitude', max=21048.0, style=ProgressStyle(desc…"
            ]
          },
          "metadata": {
            "tags": []
          }
        },
        {
          "output_type": "stream",
          "text": [
            "\n"
          ],
          "name": "stdout"
        },
        {
          "output_type": "execute_result",
          "data": {
            "text/html": [
              "<div>\n",
              "<style scoped>\n",
              "    .dataframe tbody tr th:only-of-type {\n",
              "        vertical-align: middle;\n",
              "    }\n",
              "\n",
              "    .dataframe tbody tr th {\n",
              "        vertical-align: top;\n",
              "    }\n",
              "\n",
              "    .dataframe thead th {\n",
              "        text-align: right;\n",
              "    }\n",
              "</style>\n",
              "<table border=\"1\" class=\"dataframe\">\n",
              "  <thead>\n",
              "    <tr style=\"text-align: right;\">\n",
              "      <th></th>\n",
              "      <th>long</th>\n",
              "      <th>lat</th>\n",
              "      <th>proc_lat</th>\n",
              "      <th>proc_long</th>\n",
              "      <th>cipher_lat</th>\n",
              "      <th>cipher_long</th>\n",
              "    </tr>\n",
              "    <tr>\n",
              "      <th>id</th>\n",
              "      <th></th>\n",
              "      <th></th>\n",
              "      <th></th>\n",
              "      <th></th>\n",
              "      <th></th>\n",
              "      <th></th>\n",
              "    </tr>\n",
              "  </thead>\n",
              "  <tbody>\n",
              "    <tr>\n",
              "      <th>0</th>\n",
              "      <td>-121.904167</td>\n",
              "      <td>41.974556</td>\n",
              "      <td>733191</td>\n",
              "      <td>161377</td>\n",
              "      <td>3004212923</td>\n",
              "      <td>661754192</td>\n",
              "    </tr>\n",
              "    <tr>\n",
              "      <th>1</th>\n",
              "      <td>-121.902153</td>\n",
              "      <td>41.974766</td>\n",
              "      <td>733193</td>\n",
              "      <td>161382</td>\n",
              "      <td>3004218189</td>\n",
              "      <td>661782059</td>\n",
              "    </tr>\n",
              "    <tr>\n",
              "      <th>2</th>\n",
              "      <td>-121.896790</td>\n",
              "      <td>41.988075</td>\n",
              "      <td>733267</td>\n",
              "      <td>161397</td>\n",
              "      <td>3004498321</td>\n",
              "      <td>661841887</td>\n",
              "    </tr>\n",
              "    <tr>\n",
              "      <th>3</th>\n",
              "      <td>-121.889603</td>\n",
              "      <td>41.998032</td>\n",
              "      <td>733322</td>\n",
              "      <td>161417</td>\n",
              "      <td>3004710360</td>\n",
              "      <td>661987790</td>\n",
              "    </tr>\n",
              "    <tr>\n",
              "      <th>4</th>\n",
              "      <td>-121.886681</td>\n",
              "      <td>42.008739</td>\n",
              "      <td>733381</td>\n",
              "      <td>161425</td>\n",
              "      <td>3004937228</td>\n",
              "      <td>661997761</td>\n",
              "    </tr>\n",
              "  </tbody>\n",
              "</table>\n",
              "</div>"
            ],
            "text/plain": [
              "          long        lat  proc_lat  proc_long  cipher_lat  cipher_long\n",
              "id                                                                     \n",
              "0  -121.904167  41.974556    733191     161377  3004212923    661754192\n",
              "1  -121.902153  41.974766    733193     161382  3004218189    661782059\n",
              "2  -121.896790  41.988075    733267     161397  3004498321    661841887\n",
              "3  -121.889603  41.998032    733322     161417  3004710360    661987790\n",
              "4  -121.886681  42.008739    733381     161425  3004937228    661997761"
            ]
          },
          "metadata": {
            "tags": []
          },
          "execution_count": 10
        }
      ]
    },
    {
      "cell_type": "markdown",
      "metadata": {
        "id": "UC7kpkSR-Aa2"
      },
      "source": [
        "## Execute ScalingAtk and predict lat/long in degrees"
      ]
    },
    {
      "cell_type": "code",
      "metadata": {
        "colab": {
          "base_uri": "https://localhost:8080/",
          "height": 431,
          "referenced_widgets": [
            "060f696a91c44749b5aac7b5b128112f",
            "d6cd3823730846e18531881683b10d0c",
            "2ef9c2fc299c40a89b1627979ea68168",
            "b953f716b04f4756aebda769c1f0fead",
            "728c311f1fed4d889748c72d0696ebd3",
            "69dcc293f18c4852b9ae08846779fde5",
            "48658b7eb05a45379d59550b2c34f3d7",
            "31592fa6ad6c4c65a83830567e5e7a4f",
            "3584363a56b647219b56f3aac008712f",
            "acba42f6209a4ab18e57bdc490cb0c9b",
            "cdfa32ef709b4399a89bec8af439f7d9",
            "ce40fa40478740c685db6c5822299431",
            "fb1734311bb44fdc812fd88dde31781a",
            "29de90fd100447c29fd35b2e1481f769",
            "a396fe89ec834fa798927b0c05563e94",
            "de7df4a021654cc2a8e20a978f94a3c7",
            "6494471a04cd4e94bd63d4d0203c4495",
            "441f4b277ca449aba198d7122b9b2279",
            "1c8f18f2ae0a4c5fb2133a7e8dfb728d",
            "8ba2eb39702747e790788a6c4f01f20a",
            "4383cc28844c4ccbb266c005e4558c6d",
            "23d08c9fb3fd4d97a0577ef9a71f4a9b",
            "f04cc696f2914b52959e5c1698e8e140",
            "1b74dea75ba341aa9312ab0e87c8b67a",
            "96400c8aaedb49d29ff85125f2a94df8",
            "ac3e4d906f52408b8a2a9a42f8be88fc",
            "c5190559795e410eb74c8e50a6df0250",
            "0f134b9edc614be083399120de819223",
            "60eac6b843af4a82953591728d5e5a73",
            "5b199ba2f90b49e69a5a0d705d267367",
            "353b75654a34402bbba13cdb98069fd2",
            "b9a1db33b35d477881880512ce43199c"
          ]
        },
        "id": "iupn9JFFQ9Ic",
        "outputId": "5fe58d34-1b6d-4e86-b61b-9b4838c05256"
      },
      "source": [
        "def ScalingAtk(y):\r\n",
        "  return y>>(N-M)\r\n",
        "\r\n",
        "tqdm.pandas(desc='ScalingAtk Lat')\r\n",
        "data['ScalingAtk_proc_lat'] = data['cipher_lat'].progress_apply(ScalingAtk)\r\n",
        "tqdm.pandas(desc='ScalingAtk Long')\r\n",
        "data['ScalingAtk_proc_long'] = data['cipher_long'].progress_apply(ScalingAtk)\r\n",
        "tqdm.pandas(desc='Unprocess Lat')\r\n",
        "data['ScalingAtk_lat'] = data['ScalingAtk_proc_lat'].progress_apply(unproc_lat)\r\n",
        "tqdm.pandas(desc='Unprocess Long')\r\n",
        "data['ScalingAtk_long'] = data['ScalingAtk_proc_long'].progress_apply(unproc_long)\r\n",
        "\r\n",
        "data.head()"
      ],
      "execution_count": null,
      "outputs": [
        {
          "output_type": "display_data",
          "data": {
            "application/vnd.jupyter.widget-view+json": {
              "model_id": "060f696a91c44749b5aac7b5b128112f",
              "version_minor": 0,
              "version_major": 2
            },
            "text/plain": [
              "HBox(children=(FloatProgress(value=0.0, description='ScalingAtk Lat', max=21048.0, style=ProgressStyle(descrip…"
            ]
          },
          "metadata": {
            "tags": []
          }
        },
        {
          "output_type": "stream",
          "text": [
            "\n"
          ],
          "name": "stdout"
        },
        {
          "output_type": "display_data",
          "data": {
            "application/vnd.jupyter.widget-view+json": {
              "model_id": "3584363a56b647219b56f3aac008712f",
              "version_minor": 0,
              "version_major": 2
            },
            "text/plain": [
              "HBox(children=(FloatProgress(value=0.0, description='ScalingAtk Long', max=21048.0, style=ProgressStyle(descri…"
            ]
          },
          "metadata": {
            "tags": []
          }
        },
        {
          "output_type": "stream",
          "text": [
            "\n"
          ],
          "name": "stdout"
        },
        {
          "output_type": "display_data",
          "data": {
            "application/vnd.jupyter.widget-view+json": {
              "model_id": "6494471a04cd4e94bd63d4d0203c4495",
              "version_minor": 0,
              "version_major": 2
            },
            "text/plain": [
              "HBox(children=(FloatProgress(value=0.0, description='Unprocess Lat', max=21048.0, style=ProgressStyle(descript…"
            ]
          },
          "metadata": {
            "tags": []
          }
        },
        {
          "output_type": "stream",
          "text": [
            "\n"
          ],
          "name": "stdout"
        },
        {
          "output_type": "display_data",
          "data": {
            "application/vnd.jupyter.widget-view+json": {
              "model_id": "96400c8aaedb49d29ff85125f2a94df8",
              "version_minor": 0,
              "version_major": 2
            },
            "text/plain": [
              "HBox(children=(FloatProgress(value=0.0, description='Unprocess Long', max=21048.0, style=ProgressStyle(descrip…"
            ]
          },
          "metadata": {
            "tags": []
          }
        },
        {
          "output_type": "stream",
          "text": [
            "\n"
          ],
          "name": "stdout"
        },
        {
          "output_type": "execute_result",
          "data": {
            "text/html": [
              "<div>\n",
              "<style scoped>\n",
              "    .dataframe tbody tr th:only-of-type {\n",
              "        vertical-align: middle;\n",
              "    }\n",
              "\n",
              "    .dataframe tbody tr th {\n",
              "        vertical-align: top;\n",
              "    }\n",
              "\n",
              "    .dataframe thead th {\n",
              "        text-align: right;\n",
              "    }\n",
              "</style>\n",
              "<table border=\"1\" class=\"dataframe\">\n",
              "  <thead>\n",
              "    <tr style=\"text-align: right;\">\n",
              "      <th></th>\n",
              "      <th>long</th>\n",
              "      <th>lat</th>\n",
              "      <th>proc_lat</th>\n",
              "      <th>proc_long</th>\n",
              "      <th>cipher_lat</th>\n",
              "      <th>cipher_long</th>\n",
              "      <th>ScalingAtk_proc_lat</th>\n",
              "      <th>ScalingAtk_proc_long</th>\n",
              "      <th>ScalingAtk_lat</th>\n",
              "      <th>ScalingAtk_long</th>\n",
              "    </tr>\n",
              "    <tr>\n",
              "      <th>id</th>\n",
              "      <th></th>\n",
              "      <th></th>\n",
              "      <th></th>\n",
              "      <th></th>\n",
              "      <th></th>\n",
              "      <th></th>\n",
              "      <th></th>\n",
              "      <th></th>\n",
              "      <th></th>\n",
              "      <th></th>\n",
              "    </tr>\n",
              "  </thead>\n",
              "  <tbody>\n",
              "    <tr>\n",
              "      <th>0</th>\n",
              "      <td>-121.904167</td>\n",
              "      <td>41.974556</td>\n",
              "      <td>733191</td>\n",
              "      <td>161377</td>\n",
              "      <td>3004212923</td>\n",
              "      <td>661754192</td>\n",
              "      <td>733450</td>\n",
              "      <td>161561</td>\n",
              "      <td>42.02100</td>\n",
              "      <td>-121.83804</td>\n",
              "    </tr>\n",
              "    <tr>\n",
              "      <th>1</th>\n",
              "      <td>-121.902153</td>\n",
              "      <td>41.974766</td>\n",
              "      <td>733193</td>\n",
              "      <td>161382</td>\n",
              "      <td>3004218189</td>\n",
              "      <td>661782059</td>\n",
              "      <td>733451</td>\n",
              "      <td>161567</td>\n",
              "      <td>42.02118</td>\n",
              "      <td>-121.83588</td>\n",
              "    </tr>\n",
              "    <tr>\n",
              "      <th>2</th>\n",
              "      <td>-121.896790</td>\n",
              "      <td>41.988075</td>\n",
              "      <td>733267</td>\n",
              "      <td>161397</td>\n",
              "      <td>3004498321</td>\n",
              "      <td>661841887</td>\n",
              "      <td>733520</td>\n",
              "      <td>161582</td>\n",
              "      <td>42.03360</td>\n",
              "      <td>-121.83048</td>\n",
              "    </tr>\n",
              "    <tr>\n",
              "      <th>3</th>\n",
              "      <td>-121.889603</td>\n",
              "      <td>41.998032</td>\n",
              "      <td>733322</td>\n",
              "      <td>161417</td>\n",
              "      <td>3004710360</td>\n",
              "      <td>661987790</td>\n",
              "      <td>733571</td>\n",
              "      <td>161618</td>\n",
              "      <td>42.04278</td>\n",
              "      <td>-121.81752</td>\n",
              "    </tr>\n",
              "    <tr>\n",
              "      <th>4</th>\n",
              "      <td>-121.886681</td>\n",
              "      <td>42.008739</td>\n",
              "      <td>733381</td>\n",
              "      <td>161425</td>\n",
              "      <td>3004937228</td>\n",
              "      <td>661997761</td>\n",
              "      <td>733627</td>\n",
              "      <td>161620</td>\n",
              "      <td>42.05286</td>\n",
              "      <td>-121.81680</td>\n",
              "    </tr>\n",
              "  </tbody>\n",
              "</table>\n",
              "</div>"
            ],
            "text/plain": [
              "          long        lat  ...  ScalingAtk_lat  ScalingAtk_long\n",
              "id                         ...                                 \n",
              "0  -121.904167  41.974556  ...        42.02100       -121.83804\n",
              "1  -121.902153  41.974766  ...        42.02118       -121.83588\n",
              "2  -121.896790  41.988075  ...        42.03360       -121.83048\n",
              "3  -121.889603  41.998032  ...        42.04278       -121.81752\n",
              "4  -121.886681  42.008739  ...        42.05286       -121.81680\n",
              "\n",
              "[5 rows x 10 columns]"
            ]
          },
          "metadata": {
            "tags": []
          },
          "execution_count": 11
        }
      ]
    },
    {
      "cell_type": "code",
      "metadata": {
        "colab": {
          "base_uri": "https://localhost:8080/",
          "height": 715
        },
        "id": "gj0Soe1-uZgD",
        "outputId": "f39e773e-b888-47f4-c317-e2a3bfa717c6"
      },
      "source": [
        "import matplotlib.pyplot as plt\r\n",
        "\r\n",
        "sample = data.sample(2000)\r\n",
        "\r\n",
        "def plot_latlong(prefix='', prefix2='',c1='b', c2='r',t=''):\r\n",
        "  fig=plt.figure()\r\n",
        "  ax=fig.add_axes([0,0,1,1])\r\n",
        "  ax.scatter(sample[prefix+'long'], sample[prefix+'lat'], color=c1)\r\n",
        "  if prefix2:\r\n",
        "    ax.scatter(sample[prefix2+'long'], sample[prefix2+'lat'], color=c2)\r\n",
        "  ax.set_xlabel('Long')\r\n",
        "  ax.set_ylabel('Lat')\r\n",
        "  ax.set_title(t)\r\n",
        "  plt.show()\r\n",
        "\r\n",
        "plot_latlong('',t=\"Plain text\")\r\n",
        "plot_latlong('ScalingAtk_', c1='r', t=\"Scaling attack\")"
      ],
      "execution_count": null,
      "outputs": [
        {
          "output_type": "display_data",
          "data": {
            "image/png": "[encoded data removed]",
            "text/plain": [
              "<Figure size 432x288 with 1 Axes>"
            ]
          },
          "metadata": {
            "tags": [],
            "needs_background": "light"
          }
        },
        {
          "output_type": "display_data",
          "data": {
            "image/png": "[encoded data removed]",
            "text/plain": [
              "<Figure size 432x288 with 1 Axes>"
            ]
          },
          "metadata": {
            "tags": [],
            "needs_background": "light"
          }
        }
      ]
    },
    {
      "cell_type": "markdown",
      "metadata": {
        "id": "sPZRtlnKAO0x"
      },
      "source": [
        "## Compute ScalingAtk error - geo distance between actual and predicted lat/long "
      ]
    },
    {
      "cell_type": "code",
      "metadata": {
        "id": "yqxCt363wbtj",
        "colab": {
          "base_uri": "https://localhost:8080/",
          "height": 66,
          "referenced_widgets": [
            "d8c657ee02e541c4a91d1188081c0a24",
            "f2780285c8934d13a6a0cb96aa426cae",
            "e789789bb116442a84851d0ad78369ce",
            "522aad3840f84fe391ef33a3631e9a1e",
            "922f2bf2c9c74e5394142d16e2a3684e",
            "57a67f86e9804054aa8c7d6564806cb6",
            "6634466097c9464ebcc3cf8da15635f6",
            "1c95edf48061441bbf1c47860ea3693b"
          ]
        },
        "outputId": "ddb9dae0-4958-4547-ee01-d03e2d47c54d"
      },
      "source": [
        "#compute error\r\n",
        "import geopy.distance\r\n",
        "\r\n",
        "def distance(row, prefix):\r\n",
        "  coords_1 = (row['lat'], row['long'])\r\n",
        "  coords_2 = (row[prefix+'lat'], row[prefix+'long'])\r\n",
        "  return geopy.distance.vincenty(coords_1, coords_2).km\r\n",
        "\r\n",
        "data['ScalingAtk_Dist'] = data.progress_apply(lambda x: distance(x, 'ScalingAtk_'), axis=1)"
      ],
      "execution_count": null,
      "outputs": [
        {
          "output_type": "display_data",
          "data": {
            "application/vnd.jupyter.widget-view+json": {
              "model_id": "d8c657ee02e541c4a91d1188081c0a24",
              "version_minor": 0,
              "version_major": 2
            },
            "text/plain": [
              "HBox(children=(FloatProgress(value=0.0, description='Unprocess Long', max=21048.0, style=ProgressStyle(descrip…"
            ]
          },
          "metadata": {
            "tags": []
          }
        },
        {
          "output_type": "stream",
          "text": [
            "\n"
          ],
          "name": "stdout"
        }
      ]
    },
    {
      "cell_type": "code",
      "metadata": {
        "id": "ovNvQR-JqBXr",
        "colab": {
          "base_uri": "https://localhost:8080/"
        },
        "outputId": "91d84777-322e-4d7c-e2af-7475c1d082aa"
      },
      "source": [
        "print(\"Distance error\")\r\n",
        "print()\r\n",
        "data['ScalingAtk_Dist'].describe()"
      ],
      "execution_count": null,
      "outputs": [
        {
          "output_type": "stream",
          "text": [
            "Distance error\n",
            "\n"
          ],
          "name": "stdout"
        },
        {
          "output_type": "execute_result",
          "data": {
            "text/plain": [
              "count    21048.000000\n",
              "mean        12.101984\n",
              "std          2.379833\n",
              "min          5.464222\n",
              "25%         10.133830\n",
              "50%         12.132814\n",
              "75%         14.190149\n",
              "max         16.998215\n",
              "Name: ScalingAtk_Dist, dtype: float64"
            ]
          },
          "metadata": {
            "tags": []
          },
          "execution_count": 17
        }
      ]
    },
    {
      "cell_type": "markdown",
      "metadata": {
        "id": "sYg3KsidA4mo"
      },
      "source": [
        "# Train model to correct error in ScalingAtk predictions"
      ]
    },
    {
      "cell_type": "markdown",
      "metadata": {
        "id": "N-LbB87PAmRJ"
      },
      "source": [
        "![image.png](data:image/png;base64,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)"
      ]
    },
    {
      "cell_type": "markdown",
      "metadata": {
        "id": "9ORDkgl2BI-a"
      },
      "source": [
        "## Prepare datasets\r\n",
        "1. Split data into train (40%), test (60%) data sets\r\n",
        "2. Prepare data for batch training"
      ]
    },
    {
      "cell_type": "code",
      "metadata": {
        "id": "hTrC5Ia0A-hr"
      },
      "source": [
        "import torch\r\n",
        "from sklearn.model_selection import train_test_split\r\n",
        "\r\n",
        "class LatLong(torch.utils.data.Dataset):\r\n",
        "    def __init__(self, df, xcolprefix='ScalingAtk_', ycolprefix=''):\r\n",
        "        self.X = torch.tensor([[row[xcolprefix+'lat'], row[xcolprefix+'long']] for i, row in df.iterrows()], dtype=torch.float)\r\n",
        "        self.Y = torch.tensor([[row[ycolprefix+'lat'], row[ycolprefix+'long']] for i, row in df.iterrows()], dtype=torch.float)\r\n",
        "        \r\n",
        "    def __len__(self):\r\n",
        "        return len(self.X)\r\n",
        "    \r\n",
        "    def __getitem__(self, index):\r\n",
        "        return self.X[index], self.Y[index]\r\n",
        "\r\n",
        "TEST_SIZE=0.6\r\n",
        "VALIDATION_SIZE=0.2\r\n",
        "\r\n",
        "train_df, test_df = train_test_split(data, test_size=TEST_SIZE)\r\n",
        "train_df, validation_df = train_test_split(train_df, test_size=VALIDATION_SIZE)\r\n",
        "\r\n",
        "train_dataset = LatLong(train_df)\r\n",
        "test_dataset = LatLong(test_df)\r\n",
        "dev_dataset = LatLong(validation_df)\r\n",
        "\r\n",
        "BATCH_SIZE=64\r\n",
        "\r\n",
        "train_dataloader = torch.utils.data.DataLoader(train_dataset, batch_size=BATCH_SIZE)\r\n",
        "test_dataloader = torch.utils.data.DataLoader(test_dataset, batch_size=BATCH_SIZE)\r\n",
        "dev_dataloader = torch.utils.data.DataLoader(dev_dataset, batch_size=BATCH_SIZE)"
      ],
      "execution_count": null,
      "outputs": []
    },
    {
      "cell_type": "markdown",
      "metadata": {
        "id": "GWt-W_tVB5Gl"
      },
      "source": [
        "## Define multi layer perceptron"
      ]
    },
    {
      "cell_type": "code",
      "metadata": {
        "colab": {
          "base_uri": "https://localhost:8080/"
        },
        "id": "pJITUEH174qS",
        "outputId": "d2a85a79-70bd-4e21-b83e-20ae5fe23534"
      },
      "source": [
        "from torch import nn\r\n",
        "\r\n",
        "class MLP(nn.Module):\r\n",
        "    def __init__(self):\r\n",
        "        super(MLP, self).__init__()\r\n",
        "        self.layers = nn.Sequential(\r\n",
        "            nn.Linear(2, 50),\r\n",
        "            nn.ReLU(),\r\n",
        "            nn.Linear(50, 2)\r\n",
        "        )\r\n",
        "        \r\n",
        "    def forward(self, x):\r\n",
        "        x = self.layers(x)\r\n",
        "        return x\r\n",
        "\r\n",
        "model = MLP()\r\n",
        "print(model)"
      ],
      "execution_count": null,
      "outputs": [
        {
          "output_type": "stream",
          "text": [
            "MLP(\n",
            "  (layers): Sequential(\n",
            "    (0): Linear(in_features=2, out_features=50, bias=True)\n",
            "    (1): ReLU()\n",
            "    (2): Linear(in_features=50, out_features=2, bias=True)\n",
            "  )\n",
            ")\n"
          ],
          "name": "stdout"
        }
      ]
    },
    {
      "cell_type": "markdown",
      "metadata": {
        "id": "eCz4E15OCBRl"
      },
      "source": [
        "## Loss & Optimizers"
      ]
    },
    {
      "cell_type": "code",
      "metadata": {
        "id": "y_-0g9-V-hBV"
      },
      "source": [
        "import torch\r\n",
        "import numpy as np\r\n",
        "RADIUS_KM = 6378.1\r\n",
        "\r\n",
        "def geo_distance(output, target):\r\n",
        "    pi_on_180 = 0.0174532925239\r\n",
        "    obv_rad = output*pi_on_180\r\n",
        "    prev_rad = target*pi_on_180\r\n",
        "\r\n",
        "    dlat_dlong = obv_rad - prev_rad \r\n",
        "    v = dlat_dlong / 2\r\n",
        "    v = torch.sin(v)\r\n",
        "    v = v**2\r\n",
        "\r\n",
        "    a = v[:,0] + torch.cos(obv_rad[:,1]) * torch.cos(prev_rad[:,1]) * v[:,1] \r\n",
        "\r\n",
        "    c = 2 * torch.atan2(torch.sqrt(a), torch.sqrt(1-a))\r\n",
        "    c = c*RADIUS_KM\r\n",
        "\r\n",
        "    return c\r\n",
        "\r\n",
        "optimizer = torch.optim.Adam(model.parameters(), lr=0.001)\r\n",
        "\r\n",
        "# can add geo loss\r\n",
        "loss_fn = nn.SmoothL1Loss()\r\n",
        "#loss_fn = geo_distance\r\n",
        "\r\n",
        "\r\n"
      ],
      "execution_count": null,
      "outputs": []
    },
    {
      "cell_type": "markdown",
      "metadata": {
        "id": "UIOQBjlQCFlm"
      },
      "source": [
        "## Backpropogation"
      ]
    },
    {
      "cell_type": "code",
      "metadata": {
        "colab": {
          "base_uri": "https://localhost:8080/"
        },
        "id": "hgWvieZC_1E7",
        "outputId": "a54601ee-58a2-4879-f1f2-62b93f888a74"
      },
      "source": [
        "mean_train_losses = []\r\n",
        "mean_valid_losses = []\r\n",
        "epochs = 20\r\n",
        "\r\n",
        "for epoch in range(epochs):\r\n",
        "    model.train()\r\n",
        "    \r\n",
        "    train_losses = []\r\n",
        "    valid_losses = []\r\n",
        "    for i, (cipher, plaintext) in enumerate(train_dataloader):\r\n",
        "        optimizer.zero_grad()\r\n",
        "        outputs = model(cipher)\r\n",
        "        loss = loss_fn(outputs, plaintext)\r\n",
        "        loss.backward()\r\n",
        "        optimizer.step()\r\n",
        "        \r\n",
        "        train_losses.append(loss.item())\r\n",
        "        \r\n",
        "        if (i * 128) % (128 * 100) == 0:\r\n",
        "            print(f'{i * 128} / 50000')\r\n",
        "            \r\n",
        "    model.eval()\r\n",
        "    total=0\r\n",
        "    dist=0\r\n",
        "    cdist=0\r\n",
        "    with torch.no_grad():\r\n",
        "        for i, (cipher, plaintext) in enumerate(dev_dataloader):\r\n",
        "\r\n",
        "            outputs = model(cipher)\r\n",
        "            loss = loss_fn(outputs, plaintext)\r\n",
        "            \r\n",
        "            valid_losses.append(loss.item())\r\n",
        "            \r\n",
        "            out = outputs.numpy()\r\n",
        "            pt = plaintext.numpy()\r\n",
        "            ct = cipher.numpy()\r\n",
        "            for i in range(len(out)):\r\n",
        "              dist += geopy.distance.vincenty(pt[i], out[i]).km\r\n",
        "              cdist += geopy.distance.vincenty(pt[i], ct[i]).km\r\n",
        "              total += 1\r\n",
        "                        \r\n",
        "    mean_train_losses.append(np.mean(train_losses))\r\n",
        "    mean_valid_losses.append(np.mean(valid_losses))\r\n",
        "    \r\n",
        "    print('epoch : {}, train loss : {:.4f}, valid loss : {:.4f} valid average dist {:.4f} original {:.4f}'\\\r\n",
        "         .format(epoch+1, np.mean(train_losses), np.mean(valid_losses), dist/total, cdist/total))\r\n",
        "    \r\n"
      ],
      "execution_count": null,
      "outputs": [
        {
          "output_type": "stream",
          "text": [
            "0 / 50000\n",
            "12800 / 50000\n",
            "epoch : 1, train loss : 27.3058, valid loss : 0.5251 valid average dist 155.9042 original 12.1283\n",
            "0 / 50000\n",
            "12800 / 50000\n",
            "epoch : 2, train loss : 0.4943, valid loss : 0.4467 valid average dist 141.3625 original 12.1283\n",
            "0 / 50000\n",
            "12800 / 50000\n",
            "epoch : 3, train loss : 0.4265, valid loss : 0.3813 valid average dist 127.4388 original 12.1283\n",
            "0 / 50000\n",
            "12800 / 50000\n",
            "epoch : 4, train loss : 0.3624, valid loss : 0.3197 valid average dist 114.8477 original 12.1283\n",
            "0 / 50000\n",
            "12800 / 50000\n",
            "epoch : 5, train loss : 0.2888, valid loss : 0.2479 valid average dist 98.2975 original 12.1283\n",
            "0 / 50000\n",
            "12800 / 50000\n",
            "epoch : 6, train loss : 0.2108, valid loss : 0.1629 valid average dist 76.3872 original 12.1283\n",
            "0 / 50000\n",
            "12800 / 50000\n",
            "epoch : 7, train loss : 0.1375, valid loss : 0.0978 valid average dist 58.2955 original 12.1283\n",
            "0 / 50000\n",
            "12800 / 50000\n",
            "epoch : 8, train loss : 0.0783, valid loss : 0.0491 valid average dist 41.2549 original 12.1283\n",
            "0 / 50000\n",
            "12800 / 50000\n",
            "epoch : 9, train loss : 0.0383, valid loss : 0.0238 valid average dist 28.7792 original 12.1283\n",
            "0 / 50000\n",
            "12800 / 50000\n",
            "epoch : 10, train loss : 0.0167, valid loss : 0.0093 valid average dist 18.1353 original 12.1283\n",
            "0 / 50000\n",
            "12800 / 50000\n",
            "epoch : 11, train loss : 0.0067, valid loss : 0.0036 valid average dist 11.2543 original 12.1283\n",
            "0 / 50000\n",
            "12800 / 50000\n",
            "epoch : 12, train loss : 0.0025, valid loss : 0.0014 valid average dist 7.0087 original 12.1283\n",
            "0 / 50000\n",
            "12800 / 50000\n",
            "epoch : 13, train loss : 0.0009, valid loss : 0.0005 valid average dist 4.2329 original 12.1283\n",
            "0 / 50000\n",
            "12800 / 50000\n",
            "epoch : 14, train loss : 0.0003, valid loss : 0.0002 valid average dist 2.6206 original 12.1283\n",
            "0 / 50000\n",
            "12800 / 50000\n",
            "epoch : 15, train loss : 0.0002, valid loss : 0.0001 valid average dist 1.8568 original 12.1283\n",
            "0 / 50000\n",
            "12800 / 50000\n",
            "epoch : 16, train loss : 0.0001, valid loss : 0.0001 valid average dist 1.5582 original 12.1283\n",
            "0 / 50000\n",
            "12800 / 50000\n",
            "epoch : 17, train loss : 0.0001, valid loss : 0.0001 valid average dist 1.6132 original 12.1283\n",
            "0 / 50000\n",
            "12800 / 50000\n",
            "epoch : 18, train loss : 0.0001, valid loss : 0.0001 valid average dist 1.8221 original 12.1283\n",
            "0 / 50000\n",
            "12800 / 50000\n",
            "epoch : 19, train loss : 0.0001, valid loss : 0.0002 valid average dist 1.9167 original 12.1283\n",
            "0 / 50000\n",
            "12800 / 50000\n",
            "epoch : 20, train loss : 0.0001, valid loss : 0.0002 valid average dist 2.0587 original 12.1283\n"
          ],
          "name": "stdout"
        }
      ]
    },
    {
      "cell_type": "code",
      "metadata": {
        "colab": {
          "base_uri": "https://localhost:8080/",
          "height": 545
        },
        "id": "GwqgwXQdEyc0",
        "outputId": "bda0a5f8-d7af-430f-80c5-08dbeb2212e8"
      },
      "source": [
        "plt.plot(mean_train_losses)\r\n",
        "plt.title(\"Training loss\")\r\n",
        "plt.show()\r\n",
        "plt.title(\"Validation loss\")\r\n",
        "plt.plot(mean_valid_losses)\r\n",
        "plt.show()"
      ],
      "execution_count": null,
      "outputs": [
        {
          "output_type": "display_data",
          "data": {
            "image/png": "[encoded data removed]",
            "text/plain": [
              "<Figure size 432x288 with 1 Axes>"
            ]
          },
          "metadata": {
            "tags": [],
            "needs_background": "light"
          }
        },
        {
          "output_type": "display_data",
          "data": {
            "image/png": "[encoded data removed]",
            "text/plain": [
              "<Figure size 432x288 with 1 Axes>"
            ]
          },
          "metadata": {
            "tags": [],
            "needs_background": "light"
          }
        }
      ]
    },
    {
      "cell_type": "code",
      "metadata": {
        "id": "2QLonleSju0u",
        "colab": {
          "base_uri": "https://localhost:8080/"
        },
        "outputId": "1e25e341-f1a2-4605-ddbe-991922aa0fd4"
      },
      "source": [
        "model.eval()\r\n",
        "pred = model(test_dataset.X)\r\n",
        "total = len(test_dataset)\r\n",
        "dist=0\r\n",
        "maxdist = dist\r\n",
        "mindist = dist\r\n",
        "for i in range(len(test_dataset)):\r\n",
        "  d = geopy.distance.vincenty(test_dataset.Y[i], pred[i]).km\r\n",
        "  maxdist = max(d, maxdist)\r\n",
        "  mindist = min(d, mindist) \r\n",
        "  dist+=d\r\n",
        "  total+=1\r\n",
        "\r\n",
        "print(\"test dataset distance: average {:.4f}, min distance {:.4f}, max distance {:.4f}\".format((dist/total), mindist, maxdist))"
      ],
      "execution_count": null,
      "outputs": [
        {
          "output_type": "stream",
          "text": [
            "test dataset distance: average 1.0179, min distance 0.0000, max distance 6.1905\n"
          ],
          "name": "stdout"
        }
      ]
    },
    {
      "cell_type": "markdown",
      "metadata": {
        "id": "kAnv0AAHGIBf"
      },
      "source": [
        "# Result- Error (distance from ground truth in km)\r\n",
        "\r\n",
        "## ScalingAtk (From Paper)\r\n",
        "\r\n",
        "1. Average distance - 12.10 km\r\n",
        "2. Min distance - 5.46 km\r\n",
        "3. Max distance - 16.99 km\r\n",
        "\r\n",
        "## ScalingAtk with distance minimization (Experiment)\r\n",
        "\r\n",
        "1. Average distance - 1.0179 km\r\n",
        "2. Min distance - 0.0000 km\r\n",
        "3. Max distance - 6.1905 km"
      ]
    }
  ]
}